{
 "cells": [
  {
   "cell_type": "markdown",
   "metadata": {},
   "source": [
    "## Cython\n",
    "\n",
    "In this notebook, we will use the `cythonmagic` extension, to demonstrate why and how to use cython.\n",
    "\n",
    "Note that this is not the typical usage pattern for cython: When we are done going through this notebook, we will also look at how to use cython in the context of modules and libraries.\n",
    "\n",
    "But for now, let's load the `Cython` IPython extension. This allows us to mark cells as cython cells by starting them with `%%cython`. "
   ]
  },
  {
   "cell_type": "code",
   "execution_count": 14,
   "metadata": {
    "collapsed": false
   },
   "outputs": [
    {
     "name": "stdout",
     "output_type": "stream",
     "text": [
      "The Cython extension is already loaded. To reload it, use:\n",
      "  %reload_ext Cython\n"
     ]
    }
   ],
   "source": [
    "%load_ext Cython"
   ]
  },
  {
   "cell_type": "markdown",
   "metadata": {},
   "source": [
    "First, let's see what this is good for.\n",
    "\n",
    "Consider a very simple function defined in python:"
   ]
  },
  {
   "cell_type": "code",
   "execution_count": 15,
   "metadata": {
    "collapsed": false
   },
   "outputs": [],
   "source": [
    "def my_poly(a,b):\n",
    "    return 10.5 * a + 3 * (b**2)"
   ]
  },
  {
   "cell_type": "markdown",
   "metadata": {},
   "source": [
    "We can use the `timeit` IPython magic to tell us how much time this function takes:"
   ]
  },
  {
   "cell_type": "code",
   "execution_count": 16,
   "metadata": {
    "collapsed": false
   },
   "outputs": [
    {
     "name": "stdout",
     "output_type": "stream",
     "text": [
      "The slowest run took 5.82 times longer than the fastest. This could mean that an intermediate result is being cached \n",
      "1000000 loops, best of 3: 504 ns per loop\n"
     ]
    }
   ],
   "source": [
    "time_my_poly = %timeit -o my_poly(10, 2)"
   ]
  },
  {
   "cell_type": "markdown",
   "metadata": {},
   "source": [
    "### Question: what's taking it so long? "
   ]
  },
  {
   "cell_type": "markdown",
   "metadata": {},
   "source": [
    "The equivalent cython function is defined below in a `%%cython` cell. Note that the only difference is that we tell the function to treat these variables as double-precision numbers. \n",
    "\n",
    "**Important**: If this code were written in a regular python cell it would produce a syntax error. Cython is a 'dialect' of python, but it is not exactly like python. In fact, cython is a proper superset of python. That means that any python code is legitimate cython code, but the opposite. We will see one way to deal with this issue in a little bit."
   ]
  },
  {
   "cell_type": "code",
   "execution_count": 17,
   "metadata": {
    "collapsed": false
   },
   "outputs": [],
   "source": [
    "%%cython\n",
    "def my_polyx(double a, double b):\n",
    "    return 10.5 * a + 3 * (b**2)"
   ]
  },
  {
   "cell_type": "code",
   "execution_count": 18,
   "metadata": {
    "collapsed": false
   },
   "outputs": [
    {
     "name": "stdout",
     "output_type": "stream",
     "text": [
      "The slowest run took 15.04 times longer than the fastest. This could mean that an intermediate result is being cached \n",
      "10000000 loops, best of 3: 144 ns per loop\n"
     ]
    }
   ],
   "source": [
    "time_my_polyx = %timeit -o my_polyx(10, 2)"
   ]
  },
  {
   "cell_type": "code",
   "execution_count": 21,
   "metadata": {
    "collapsed": false
   },
   "outputs": [
    {
     "name": "stdout",
     "output_type": "stream",
     "text": [
      "3.503076047182103\n"
     ]
    }
   ],
   "source": [
    "speedup = time_my_poly.best/time_my_polyx.best\n",
    "print(speedup)"
   ]
  },
  {
   "cell_type": "markdown",
   "metadata": {},
   "source": [
    "This shows that we can gain more than a 3-fold speedup for even a trivial piece of code."
   ]
  },
  {
   "cell_type": "markdown",
   "metadata": {},
   "source": [
    "Let's consider an (only slightly) more interesting example, the calculation of the fibonacci series that we considered for the profiling examples:"
   ]
  },
  {
   "cell_type": "code",
   "execution_count": 22,
   "metadata": {
    "collapsed": false
   },
   "outputs": [],
   "source": [
    "def fib(n):\n",
    "    a, b = 1, 1\n",
    "    for i in range(n):\n",
    "        a, b = a+b, a\n",
    "\n",
    "    return a"
   ]
  },
  {
   "cell_type": "markdown",
   "metadata": {},
   "source": [
    "The first step in creating the cython version of this is to copy the code into a cell and decorate it with `%%cython`"
   ]
  },
  {
   "cell_type": "code",
   "execution_count": 24,
   "metadata": {
    "collapsed": true
   },
   "outputs": [],
   "source": [
    "%%cython\n",
    "def fibx(int n):\n",
    "    a, b = 1, 1\n",
    "    for i in range(n):\n",
    "        a, b = a+b, a\n",
    "    return a"
   ]
  },
  {
   "cell_type": "code",
   "execution_count": 25,
   "metadata": {
    "collapsed": false
   },
   "outputs": [
    {
     "name": "stdout",
     "output_type": "stream",
     "text": [
      "1000000 loops, best of 3: 1.02 µs per loop\n",
      "The slowest run took 5.25 times longer than the fastest. This could mean that an intermediate result is being cached \n",
      "1000000 loops, best of 3: 209 ns per loop\n",
      "4.867633966165363\n"
     ]
    }
   ],
   "source": [
    "time_fib = %timeit -o fib(10)\n",
    "time_fibx = %timeit -o fibx(10)\n",
    "print(time_fib.best/time_fibx.best)"
   ]
  },
  {
   "cell_type": "markdown",
   "metadata": {},
   "source": [
    "As before, this results in some speedup"
   ]
  },
  {
   "cell_type": "markdown",
   "metadata": {},
   "source": [
    "Next, we add minimal type information we will use the `cdef` keyword (a cython keyword!) to define local variables (integers in this case)"
   ]
  },
  {
   "cell_type": "code",
   "execution_count": 26,
   "metadata": {
    "collapsed": false
   },
   "outputs": [],
   "source": [
    "%%cython\n",
    "def fibx(int n):\n",
    "    cdef int i, a, b\n",
    "    a, b = 1, 1\n",
    "    for i in range(n):\n",
    "        a, b = a+b, a\n",
    "    return a"
   ]
  },
  {
   "cell_type": "code",
   "execution_count": 27,
   "metadata": {
    "collapsed": false
   },
   "outputs": [
    {
     "name": "stdout",
     "output_type": "stream",
     "text": [
      "1000000 loops, best of 3: 1.01 µs per loop\n",
      "The slowest run took 20.68 times longer than the fastest. This could mean that an intermediate result is being cached \n",
      "10000000 loops, best of 3: 63.3 ns per loop\n",
      "15.901533046104458\n"
     ]
    }
   ],
   "source": [
    "time_fib = %timeit -o fib(10)\n",
    "time_fibx = %timeit -o fibx(10)\n",
    "print(time_fib.best/time_fibx.best)"
   ]
  },
  {
   "cell_type": "markdown",
   "metadata": {},
   "source": [
    "Resolving types of the variables inside of the function and a \"promise\" to use them only as integers results in a more than 10-fold speedup!"
   ]
  },
  {
   "cell_type": "markdown",
   "metadata": {},
   "source": [
    "Let's pause to consider the implications of this. The C code required to perform the same calculation as `fibx` might look something like this: \n",
    "\n",
    "        int fib(int n){\n",
    "            int tmp, i, a, b;\n",
    "            a = b = 1;\n",
    "            for(i=0; i<n; i++){\n",
    "                 tmp = a;\n",
    "                 a += b;\n",
    "                 b = tmp;}\t     \n",
    "            return a;}\n",
    "\n",
    "In and of itself, that's not too terrible, but can get unpleasant if you write more than this trivial function. The main issue is that integrating this code into a python program is not trivial and requires writing extension code (see [this blog post](http://people.duke.edu/~ccc14/sta-663/Optimization_Bakeoff.html) for details...). This also has overhead that is hard to optimize. Cython writes highly optimized python extension code, making it easy to separate out performance bottle-necks and compile them, but keep using the functions in your python code. "
   ]
  },
  {
   "cell_type": "markdown",
   "metadata": {},
   "source": [
    "## Optional section: writing cython that also works as python\n",
    "\n",
    "Remember that we mentioned that cython code is not always syntactically correct python code? Sometimes you might want to write code that can be compiled as cython, but would also work as python, as a fall-back (e.g., when you don't have a compiler, or some-such). If you want to do that, you can use the cython API. The following cell is a simple example. This can be switched between (un-compiled) python and (compiled) cython by adding/removing the `%%cython` cell magic command at the top of the cell."
   ]
  },
  {
   "cell_type": "code",
   "execution_count": 31,
   "metadata": {
    "collapsed": false
   },
   "outputs": [],
   "source": [
    "import cython\n",
    "@cython.locals(n=cython.int)\n",
    "def fib_pure_python(n):\n",
    "    cython.declare(a=cython.int,\n",
    "                   b=cython.int,\n",
    "                   i=cython.int)\n",
    "    a, b = 1, 1\n",
    "    for i in range(n):\n",
    "        a, b = a+b, a\n",
    "    return a\n"
   ]
  },
  {
   "cell_type": "code",
   "execution_count": 32,
   "metadata": {
    "collapsed": true
   },
   "outputs": [],
   "source": [
    "%%cython\n",
    "import cython\n",
    "@cython.locals(n=cython.int)\n",
    "def fib_pure_pythonx(n):\n",
    "    cython.declare(a=cython.int,\n",
    "                   b=cython.int,\n",
    "                   i=cython.int)\n",
    "    a, b = 1, 1\n",
    "    for i in range(n):\n",
    "        a, b = a+b, a\n",
    "    return a\n"
   ]
  },
  {
   "cell_type": "code",
   "execution_count": 34,
   "metadata": {
    "collapsed": false
   },
   "outputs": [
    {
     "name": "stdout",
     "output_type": "stream",
     "text": [
      "The slowest run took 5.73 times longer than the fastest. This could mean that an intermediate result is being cached \n",
      "100000 loops, best of 3: 1.7 µs per loop\n",
      "The slowest run took 20.49 times longer than the fastest. This could mean that an intermediate result is being cached \n",
      "10000000 loops, best of 3: 54.4 ns per loop\n",
      "31.263009706321906\n"
     ]
    }
   ],
   "source": [
    "time_fib_pure_python = %timeit -o fib_pure_python(10)\n",
    "time_fib_pure_pythonx = %timeit -o fib_pure_pythonx(10)\n",
    "print(time_fib_pure_python.best/time_fib_pure_pythonx.best)"
   ]
  },
  {
   "cell_type": "markdown",
   "metadata": {
    "collapsed": true
   },
   "source": [
    "### Question: why do you think this results in an even more dramatic speedup?"
   ]
  }
 ],
 "metadata": {
  "kernelspec": {
   "display_name": "Python 3",
   "language": "python",
   "name": "python3"
  },
  "language_info": {
   "codemirror_mode": {
    "name": "ipython",
    "version": 3
   },
   "file_extension": ".py",
   "mimetype": "text/x-python",
   "name": "python",
   "nbconvert_exporter": "python",
   "pygments_lexer": "ipython3",
   "version": "3.4.3"
  }
 },
 "nbformat": 4,
 "nbformat_minor": 0
}
