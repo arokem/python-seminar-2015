{
 "cells": [
  {
   "cell_type": "markdown",
   "metadata": {},
   "source": [
    "## Cython\n",
    "\n",
    "In this notebook, we will use the `cythonmagic` extension, to demonstrate why and how to use cython.\n",
    "\n",
    "Note that this is not the typical usage pattern for cython. We will also look at how to use cython in the context of modules and libraries.\n",
    "\n",
    "But for now, let's load the `cythonmagic` extension. This allows us to mark cells as cython cells by starting them with `%%cython`. "
   ]
  },
  {
   "cell_type": "code",
   "execution_count": 4,
   "metadata": {
    "collapsed": false
   },
   "outputs": [],
   "source": [
    "%load_ext Cython"
   ]
  },
  {
   "cell_type": "markdown",
   "metadata": {},
   "source": [
    "First, let's see what this is good for.\n",
    "\n",
    "Consider a very simple function defined in python:"
   ]
  },
  {
   "cell_type": "code",
   "execution_count": 5,
   "metadata": {
    "collapsed": false
   },
   "outputs": [],
   "source": [
    "def my_poly(a,b):\n",
    "    return 10.5 * a + 3 * (b**2)"
   ]
  },
  {
   "cell_type": "markdown",
   "metadata": {},
   "source": [
    "The equivalent cython function is defined below in a `%%cython` cell. Note that the only difference is that we tell the function to treat these variables as double-precision numbers. \n",
    "\n",
    "**Important**: If this code were written in a regular python cell it would produce a syntax error. Cython is a 'dialect' of python, but it is not exactly like python. In fact, cython is a proper superset of python. That means that any python code is legitimate cython code, but the opposite. We will see one way to deal with this issue in a little bit."
   ]
  },
  {
   "cell_type": "code",
   "execution_count": 6,
   "metadata": {
    "collapsed": false
   },
   "outputs": [],
   "source": [
    "%%cython\n",
    "def my_polyx(double a, double b):\n",
    "    return 10.5 * a + 3 * (b**2)"
   ]
  },
  {
   "cell_type": "code",
   "execution_count": 7,
   "metadata": {
    "collapsed": false
   },
   "outputs": [
    {
     "name": "stdout",
     "output_type": "stream",
     "text": [
      "The slowest run took 8.76 times longer than the fastest. This could mean that an intermediate result is being cached \n",
      "1000000 loops, best of 3: 715 ns per loop\n",
      "The slowest run took 8.02 times longer than the fastest. This could mean that an intermediate result is being cached \n",
      "1000000 loops, best of 3: 208 ns per loop\n"
     ]
    }
   ],
   "source": [
    "%timeit my_poly(10, 2)\n",
    "%timeit my_polyx(10, 2)"
   ]
  },
  {
   "cell_type": "markdown",
   "metadata": {},
   "source": [
    "This shows that we can gain a 3-fold speedup for even a trivial piece of code."
   ]
  },
  {
   "cell_type": "markdown",
   "metadata": {},
   "source": [
    "Let's consider an (only slightly) more interesting example, the calculation of the fibonacci series that we considered for the profiling examples:"
   ]
  },
  {
   "cell_type": "code",
   "execution_count": 8,
   "metadata": {
    "collapsed": false
   },
   "outputs": [],
   "source": [
    "def fib(n):\n",
    "    a, b = 1, 1\n",
    "    for i in range(n):\n",
    "        a, b = a+b, a\n",
    "\n",
    "    return a"
   ]
  },
  {
   "cell_type": "markdown",
   "metadata": {},
   "source": [
    "For the cython example of this function, we will use the `cdef` keyword (a cython keyword!) to define local variables (integers in this case)"
   ]
  },
  {
   "cell_type": "code",
   "execution_count": 9,
   "metadata": {
    "collapsed": false
   },
   "outputs": [],
   "source": [
    "%%cython\n",
    "def fibx(int n):\n",
    "    cdef int i, a, b\n",
    "    a, b = 1, 1\n",
    "    for i in range(n):\n",
    "        a, b = a+b, a\n",
    "    return a"
   ]
  },
  {
   "cell_type": "code",
   "execution_count": 10,
   "metadata": {
    "collapsed": false
   },
   "outputs": [
    {
     "name": "stdout",
     "output_type": "stream",
     "text": [
      "1000000 loops, best of 3: 1.05 µs per loop\n",
      "10000000 loops, best of 3: 62.9 ns per loop\n"
     ]
    }
   ],
   "source": [
    "%timeit fib(10)\n",
    "%timeit fibx(10)"
   ]
  },
  {
   "cell_type": "markdown",
   "metadata": {},
   "source": [
    "In this case, we are already at the >10-fold speedup. \n",
    "\n",
    "Let's pause to consider the implications of this. The C code required to perform the same calculation as `fibx` might look something like this: \n",
    "\n",
    "        int fib(int n){\n",
    "            int tmp, i, a, b;\n",
    "            a = b = 1;\n",
    "            for(i=0; i<n; i++){\n",
    "                 tmp = a;\n",
    "                 a += b;\n",
    "                 b = tmp;}\t     \n",
    "            return a;}\n",
    "\n",
    "In and of itself, that's not too terrible, but can get unpleasant if you write more than this trivial function. The main issue is that integrating this code into a python program is not trivial and requires writing extension code. This also has overhead that is hard to optimize. Cython writes highly optimized python extension code, making it easy to separate out performance bottle-necks and compile them, but keep using the functions in your python code. "
   ]
  },
  {
   "cell_type": "markdown",
   "metadata": {},
   "source": [
    "## Optional section: writing cython that also works as python\n",
    "\n",
    "Remember that we mentioned that cython code is not always syntactically correct python code? Sometimes you might want to write code that can be compiled as cython, but would also work as python. If you want to do that, you can use the cython API. The following cell is a simple example. This can be switched between (un-compiled) python and (compiled) cython by adding/removing the `%%cython` cell magic command at the top of the cell."
   ]
  },
  {
   "cell_type": "code",
   "execution_count": 21,
   "metadata": {
    "collapsed": false
   },
   "outputs": [],
   "source": [
    "%%cython\n",
    "import cython\n",
    "@cython.locals(n=cython.int)\n",
    "def fib_pure_python(n):\n",
    "    cython.declare(a=cython.int,\n",
    "                   b=cython.int,\n",
    "                   i=cython.int)\n",
    "    a, b = 1, 1\n",
    "    for i in range(n):\n",
    "        a, b = a+b, a\n",
    "    return a\n"
   ]
  },
  {
   "cell_type": "code",
   "execution_count": 22,
   "metadata": {
    "collapsed": false
   },
   "outputs": [
    {
     "name": "stdout",
     "output_type": "stream",
     "text": [
      "The slowest run took 26.78 times longer than the fastest. This could mean that an intermediate result is being cached \n",
      "10000000 loops, best of 3: 53.8 ns per loop\n"
     ]
    }
   ],
   "source": [
    "%timeit fib_pure_python(10)"
   ]
  },
  {
   "cell_type": "code",
   "execution_count": 13,
   "metadata": {
    "collapsed": false
   },
   "outputs": [],
   "source": [
    "from numba import jit"
   ]
  },
  {
   "cell_type": "code",
   "execution_count": 14,
   "metadata": {
    "collapsed": true
   },
   "outputs": [],
   "source": [
    "fib_numba = jit(fib)"
   ]
  },
  {
   "cell_type": "code",
   "execution_count": 20,
   "metadata": {
    "collapsed": false
   },
   "outputs": [
    {
     "name": "stdout",
     "output_type": "stream",
     "text": [
      "The slowest run took 13.42 times longer than the fastest. This could mean that an intermediate result is being cached \n",
      "10000000 loops, best of 3: 169 ns per loop\n"
     ]
    }
   ],
   "source": [
    "fib_numba(10)  # We need to run it once because !\n",
    "%timeit fib_numba(10)"
   ]
  },
  {
   "cell_type": "code",
   "execution_count": null,
   "metadata": {
    "collapsed": true
   },
   "outputs": [],
   "source": []
  }
 ],
 "metadata": {
  "kernelspec": {
   "display_name": "Python 3",
   "language": "python",
   "name": "python3"
  },
  "language_info": {
   "codemirror_mode": {
    "name": "ipython",
    "version": 3
   },
   "file_extension": ".py",
   "mimetype": "text/x-python",
   "name": "python",
   "nbconvert_exporter": "python",
   "pygments_lexer": "ipython3",
   "version": "3.4.3"
  }
 },
 "nbformat": 4,
 "nbformat_minor": 0
}
