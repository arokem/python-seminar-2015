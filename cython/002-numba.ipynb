{
 "cells": [
  {
   "cell_type": "markdown",
   "metadata": {},
   "source": [
    "### Numba\n",
    "\n",
    "Numba is an alternative to Cython, that does a similar thing. With a twist: numba uses the LLVM tool-chain to compile python code straight to machine code, bypassing the c step altogether. For more details, go see [this talk](https://www.youtube.com/watch?v=QpaapVaL8Fw) by Travis Oliphant."
   ]
  },
  {
   "cell_type": "markdown",
   "metadata": {},
   "source": [
    "Our workhorse here will be the `jit` function. We'll also use numpy below"
   ]
  },
  {
   "cell_type": "code",
   "execution_count": 14,
   "metadata": {
    "collapsed": true
   },
   "outputs": [],
   "source": [
    "from numba import jit\n",
    "import numpy"
   ]
  },
  {
   "cell_type": "markdown",
   "metadata": {},
   "source": [
    "This function takes a function as input and returns a JIT-compiled version of that same function.\n",
    "\n",
    "For our first example, we will reconsider the `fib` function from our Cython notebook:"
   ]
  },
  {
   "cell_type": "code",
   "execution_count": 15,
   "metadata": {
    "collapsed": true
   },
   "outputs": [],
   "source": [
    "def fib(n):\n",
    "    a, b = 1, 1\n",
    "    for i in range(n):\n",
    "        a, b = a+b, a\n",
    "\n",
    "    return a"
   ]
  },
  {
   "cell_type": "markdown",
   "metadata": {},
   "source": [
    "Let's remind ourselves roughly what this is like:"
   ]
  },
  {
   "cell_type": "markdown",
   "metadata": {},
   "source": [
    "The `jit` function is called over the function, producing a new function:"
   ]
  },
  {
   "cell_type": "code",
   "execution_count": 16,
   "metadata": {
    "collapsed": false
   },
   "outputs": [],
   "source": [
    "fib_numba = jit(fib)"
   ]
  },
  {
   "cell_type": "code",
   "execution_count": 17,
   "metadata": {
    "collapsed": false
   },
   "outputs": [
    {
     "name": "stdout",
     "output_type": "stream",
     "text": [
      "1000000 loops, best of 3: 1.02 µs per loop\n",
      "The slowest run took 220699.94 times longer than the fastest. This could mean that an intermediate result is being cached \n",
      "10000000 loops, best of 3: 166 ns per loop\n",
      "6.152283773751462\n"
     ]
    }
   ],
   "source": [
    "time_fib = %timeit -o fib(10)\n",
    "time_numba = %timeit -o fib_numba(10)\n",
    "print(time_fib.best/time_numba.best)"
   ]
  },
  {
   "cell_type": "markdown",
   "metadata": {},
   "source": [
    "That's good, but not nearly as good as the best case we saw in the cython notebook!"
   ]
  },
  {
   "cell_type": "markdown",
   "metadata": {},
   "source": [
    "To consider situations in which jit really shines, lets think instead about a function that calculates the pairwise Euclidean distance between every two rows in a matrix:"
   ]
  },
  {
   "cell_type": "code",
   "execution_count": 18,
   "metadata": {
    "collapsed": true
   },
   "outputs": [],
   "source": [
    "def pdist_numpy(xs):\n",
    "    return np.sqrt(((xs[:,None,:] - xs)**2).sum(-1))"
   ]
  },
  {
   "cell_type": "code",
   "execution_count": 19,
   "metadata": {
    "collapsed": true
   },
   "outputs": [],
   "source": [
    "pdist_numba = jit(pdist_numpy)"
   ]
  },
  {
   "cell_type": "code",
   "execution_count": 23,
   "metadata": {
    "collapsed": true
   },
   "outputs": [],
   "source": [
    "%load_ext Cython"
   ]
  },
  {
   "cell_type": "code",
   "execution_count": 26,
   "metadata": {
    "collapsed": false
   },
   "outputs": [],
   "source": [
    "%%cython\n",
    "import numpy as cnp\n",
    "def pdistx(xs):\n",
    "    return cnp.sqrt(((xs[:,None,:] - xs)**2).sum(-1))"
   ]
  },
  {
   "cell_type": "code",
   "execution_count": 30,
   "metadata": {
    "collapsed": false
   },
   "outputs": [
    {
     "name": "stdout",
     "output_type": "stream",
     "text": [
      "The slowest run took 5.37 times longer than the fastest. This could mean that an intermediate result is being cached \n",
      "10000 loops, best of 3: 29.6 µs per loop\n",
      "10000 loops, best of 3: 30.1 µs per loop\n",
      "10000 loops, best of 3: 28.5 µs per loop\n",
      "0.9829359330921231\n",
      "1.0364290550227209\n"
     ]
    }
   ],
   "source": [
    "time_pdist_numpy = %timeit -o pdist_numpy(np.random.randn(5, 100))\n",
    "time_pdist_numba = %timeit -o pdist_numba(np.random.randn(5, 100))\n",
    "time_pdistx = %timeit -o pdistx(np.random.randn(5, 100))\n",
    "print(time_pdist_numpy.best/time_pdist_numba.best)\n",
    "print(time_pdist_numpy.best/time_pdistx.best)"
   ]
  },
  {
   "cell_type": "markdown",
   "metadata": {},
   "source": [
    "Consider instead writing the most naive python implementation you could think of:"
   ]
  },
  {
   "cell_type": "code",
   "execution_count": 32,
   "metadata": {
    "collapsed": true
   },
   "outputs": [],
   "source": [
    "def pdist_python(xs):\n",
    "    n, p = xs.shape\n",
    "    D = np.empty((n, n), dtype=np.float)\n",
    "    for i in range(n):\n",
    "        for j in range(n):\n",
    "            s = 0.0\n",
    "            for k in range(p):\n",
    "                tmp = xs[i,k] - xs[j,k]\n",
    "                s += tmp * tmp\n",
    "            D[i, j] = s**0.5\n",
    "    return D"
   ]
  },
  {
   "cell_type": "code",
   "execution_count": 33,
   "metadata": {
    "collapsed": false
   },
   "outputs": [
    {
     "name": "stdout",
     "output_type": "stream",
     "text": [
      "1000 loops, best of 3: 1.18 ms per loop\n",
      "39.92996463672706\n"
     ]
    }
   ],
   "source": [
    "time_pdist_python = %timeit -o pdist_python(np.random.randn(5, 100))\n",
    "print(time_pdist_python.best/time_pdist_numpy.best)"
   ]
  },
  {
   "cell_type": "code",
   "execution_count": 34,
   "metadata": {
    "collapsed": true
   },
   "outputs": [],
   "source": [
    "pdist_python_numba = jit(pdist_python)"
   ]
  },
  {
   "cell_type": "code",
   "execution_count": 37,
   "metadata": {
    "collapsed": false
   },
   "outputs": [
    {
     "name": "stdout",
     "output_type": "stream",
     "text": [
      "The slowest run took 5.75 times longer than the fastest. This could mean that an intermediate result is being cached \n",
      "10000 loops, best of 3: 19.1 µs per loop\n",
      "1.5457968737729024\n"
     ]
    }
   ],
   "source": [
    "time_pdist_python_numba = %timeit -o pdist_python_numba(np.random.randn(5, 100))\n",
    "print(time_pdist_numpy.best/time_pdist_python_numba.best)"
   ]
  },
  {
   "cell_type": "code",
   "execution_count": 39,
   "metadata": {
    "collapsed": false
   },
   "outputs": [],
   "source": [
    "from scipy.spatial.distance import cdist"
   ]
  },
  {
   "cell_type": "code",
   "execution_count": 41,
   "metadata": {
    "collapsed": true
   },
   "outputs": [],
   "source": [
    "X = np.random.randn(5, 100)"
   ]
  },
  {
   "cell_type": "code",
   "execution_count": 44,
   "metadata": {
    "collapsed": false
   },
   "outputs": [
    {
     "name": "stdout",
     "output_type": "stream",
     "text": [
      "10000 loops, best of 3: 17.7 µs per loop\n",
      "1.0827706972957536\n"
     ]
    }
   ],
   "source": [
    "X = np.random.randn(5, 100)\n",
    "time_cdist = %timeit -o cdist(X, X)\n",
    "print(time_pdist_python_numba.best/time_cdist.best)"
   ]
  }
 ],
 "metadata": {
  "kernelspec": {
   "display_name": "Python 3",
   "language": "python",
   "name": "python3"
  },
  "language_info": {
   "codemirror_mode": {
    "name": "ipython",
    "version": 3
   },
   "file_extension": ".py",
   "mimetype": "text/x-python",
   "name": "python",
   "nbconvert_exporter": "python",
   "pygments_lexer": "ipython3",
   "version": "3.4.3"
  }
 },
 "nbformat": 4,
 "nbformat_minor": 0
}
