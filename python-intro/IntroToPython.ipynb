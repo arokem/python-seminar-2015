{
 "cells": [
  {
   "cell_type": "markdown",
   "metadata": {},
   "source": [
    "This notebook material is from [Jake Vanderplas](http://www.vanderplas.com)'s UW Astro 599 course [materials](https://github.com/jakevdp/2014_fall_ASTR599). Source and license info is on [GitHub](https://github.com/jakevdp/2014_fall_ASTR599/)."
   ]
  },
  {
   "cell_type": "markdown",
   "metadata": {},
   "source": [
    "#Welcome to the 2015 UW Python Bootcamp#\n",
    "\n",
    "![Python bootcamp](http://www.pythonbootcamp.info/_/rsrc/1280771545584/home/Screen%20shot%202010-08-02%20at%2010.51.14%20AM.png?height=237&width=400)"
   ]
  },
  {
   "cell_type": "markdown",
   "metadata": {},
   "source": [
    "##Objectives##\n",
    "* Introduce you to the Python language\n",
    "* Get you *writing* Python code\n",
    "* Convince you of Python's utility in your research life\n",
    "* Encourage good coding and data management practices"
   ]
  },
  {
   "cell_type": "markdown",
   "metadata": {},
   "source": [
    "##Bootcamp Schedule##\n",
    "**Monday and Tuesday, 9:00-12:00 and 1:00-4:00**\n",
    "\n",
    "**Monday:**  \n",
    "9:00A - 12:00P: Introduction to Python  \n",
    "1:00P - 4:00P: numpy, pandas, matplotlib\n",
    "\n",
    "**Tuesday:**   \n",
    "9:00A - 12:00P: Introduction to Git and Github  \n",
    "1:00P - 4:00P: Structuring a scientific project\n",
    "\n",
    "Course website: http://uwescience.github.io/python-seminar-2015/  \n",
    "Github source: https://github.com/uwescience/python-seminar-2015"
   ]
  },
  {
   "cell_type": "markdown",
   "metadata": {},
   "source": [
    "##What is Python?##\n",
    "\n",
    "> Python is an **interpreted**, **object-oriented**, **high-level** programming language with **dynamic** semantics. Its high-level built in data structures, combined with dynamic typing and dynamic binding, make it very attractive for Rapid Application Development, as well as for use as a scripting or glue language to connect existing components together. Python's simple, easy to learn syntax emphasizes readability and therefore reduces the cost of program maintenance. Python supports modules and packages, which encourages program modularity and code reuse. The Python interpreter and the extensive standard library are available in source or binary form without charge for all major platforms, and can be freely distributed.\n",
    "\n",
    "<div align=\"right\">http://www.python.org/doc/essays/blurb/</div>"
   ]
  },
  {
   "cell_type": "markdown",
   "metadata": {},
   "source": [
    "##What is Python?##\n",
    "\n",
    "Brief explanation of some of those terms:\n",
    "\n",
    "**interpreted**:  No need for compiling stage  \n",
    "**object-oriented**:  Complex data structures with attributes and methods  \n",
    "**high-level**:  Abstraction from the way the machine actually executes  \n",
    "**dynamic**:  Variables can change meaning on-the-fly"
   ]
  },
  {
   "cell_type": "code",
   "execution_count": 84,
   "metadata": {
    "collapsed": true
   },
   "outputs": [],
   "source": [
    "pi = 3.14\n",
    "pi = \"apple pie\""
   ]
  },
  {
   "cell_type": "markdown",
   "metadata": {},
   "source": [
    "##Some ways to use Python##\n",
    "**1. Python command-line interpreter**  \n",
    "**2. Editing Python (.py) files**  \n",
    "**3. IPython command-line interpreter**  \n",
    "**4. IPython notebook**"
   ]
  },
  {
   "cell_type": "markdown",
   "metadata": {},
   "source": [
    "##1.  Python command-line interpreter##\n",
    "\n",
    "If you haven't used the command line yet, it's useful and you can even do mundane things at it in a bar to look pretentious.\n",
    "\n",
    "![Python command-line interpreter](https://raw.githubusercontent.com/jakevdp/2014_fall_ASTR599/master/notebooks/images/OSX_terminal_python.png)\n",
    "\n",
    "* **Mac OSX:** in Finder > Applications, search for \"Terminal\"\n",
    "* **Linux/Unix:** `Ctrl-Alt-t`\n",
    "* **Windows:** Start > Run > type `cmd`\n",
    "\n",
    "Type `python` at the command-line to start the interpreter.\n",
    "\n",
    "Execute a command by typing `print(\"Hello world\")`.\n",
    "\n",
    "Close the interpreter on the terminal by either typing `exit()` or pressing `Ctrl-d`.\n",
    "\n",
    "![Python command-line exit](https://raw.githubusercontent.com/jakevdp/2014_fall_ASTR599/master/notebooks/images/OSX_terminal_exit.png)"
   ]
  },
  {
   "cell_type": "markdown",
   "metadata": {},
   "source": [
    "##2.  Editing Python (.py) files##\n",
    "\n",
    "You'll need a text editor to do this.\n",
    "\n",
    "* **Mac OSX:** gedit, nano, vim, emacs...\n",
    "* **Linux/Unix:** textmate, nano, vim, emacs...\n",
    "* **Windows:** NotePad...\n",
    "\n",
    "Code highlighting is very helpful. Many of the above have extensions which add code highlighting, but here are some GUI-based editors with lots of bells and whistles.\n",
    "\n",
    "* **Mac OSX:** TextWrangler, SublimeText...\n",
    "* **Linux/Unix:** KWrite, Scribes, eggy, SublimeText...\n",
    "* **Windows:** NotePad++, Sublime Text...\n",
    "\n",
    "![Running Python script](https://raw.githubusercontent.com/jakevdp/2014_fall_ASTR599/master/notebooks/images/run_hello_world.png)\n",
    "\n",
    "Use your editor to open hello_world.py.\n",
    " \n",
    "Edit the file to say `print(\"hello world\")`.\n",
    " \n",
    "In the terminal, we'll run `python hello_world.py`."
   ]
  },
  {
   "cell_type": "markdown",
   "metadata": {},
   "source": [
    "##3.  IPython command-line interpreter##\n",
    "\n",
    "IPython provides an enhanced command-line interface. It can be started by typing `ipython` in the terminal.\n",
    "\n",
    "Useful features include tab completion, help (`?`), etc.\n",
    "\n",
    "![IPython command-line hello](https://raw.githubusercontent.com/jakevdp/2014_fall_ASTR599/master/notebooks/images/ipython_hello.png)\n",
    "\n",
    "Basic use is similar to the standard interpreter. We won't spend much time on this."
   ]
  },
  {
   "cell_type": "markdown",
   "metadata": {},
   "source": [
    "##4.  IPython GUI##\n",
    "\n",
    "I'm running this presentation in a IPython notebook right now!\n",
    "\n",
    "Since we'll use this more today, we'll go over a couple of commands. \n",
    "\n",
    "![IPython notebook start](https://raw.githubusercontent.com/jakevdp/2014_fall_ASTR599/master/notebooks/images/ipynb_command.png)"
   ]
  },
  {
   "cell_type": "markdown",
   "metadata": {},
   "source": [
    "## Skipping some sections from last year ##\n",
    "\n",
    "To learn more, check out the introduction from Jake's slides last year. http://www.astro.washington.edu/users/vanderplas/Astr599_2014/schedule\n",
    "\n",
    "###~~History of Python~~###\n",
    "\n",
    "Started over Christmas break 1989 by Guido van Rossum.\n",
    "\n",
    "###~~Why use Python?~~###\n",
    "\n",
    "Python is a high-level programming languages with a very active scientific community. While some languages give you more fine-tuned control (C, Fortran, Java), there is a tradeoff on time spent programming and code complexity. Other languages may have more science specific implementations (Matlab, IDL, R) but you'll likely lose out on adaptability and job market relevance."
   ]
  },
  {
   "cell_type": "markdown",
   "metadata": {},
   "source": [
    "##Five Minute Break##\n",
    "When we return, we'll start programming! Types, variables, calculations and flow."
   ]
  },
  {
   "cell_type": "code",
   "execution_count": 13,
   "metadata": {
    "collapsed": false
   },
   "outputs": [
    {
     "data": {
      "text/html": [
       "\n",
       "        <iframe\n",
       "            width=\"400\"\n",
       "            height=\"300\"\n",
       "            src=\"https://www.youtube.com/embed/LY6h3pkdsro\"\n",
       "            frameborder=\"0\"\n",
       "            allowfullscreen\n",
       "        ></iframe>\n",
       "        "
      ],
      "text/plain": [
       "<IPython.lib.display.YouTubeVideo at 0x1047a5710>"
      ]
     },
     "execution_count": 13,
     "metadata": {},
     "output_type": "execute_result"
    }
   ],
   "source": [
    "from IPython.display import YouTubeVideo\n",
    "YouTubeVideo(\"LY6h3pkdsro\")"
   ]
  },
  {
   "cell_type": "markdown",
   "metadata": {},
   "source": [
    "##\"Hello World\" in different languages##\n",
    "\n",
    "The infamous \"Hello World\" function is a popular first program when starting with a new language."
   ]
  },
  {
   "cell_type": "markdown",
   "metadata": {},
   "source": [
    "###Python###\n",
    "\n",
    "file: `hello.py`\n",
    "    print(\"Hello World!\")\n",
    "---\n",
    "    > python hello.py\n",
    "    Hello World!\n",
    "\n",
    "###Java###\n",
    "\n",
    "file: `hello.java`\n",
    "\n",
    "    class HelloWorld {\n",
    "        static public void main( String args[] ) {\n",
    "            System.out.println(\"Hello World!\");\n",
    "        }\n",
    "    }\n",
    "---\n",
    "    > javac hello.java\n",
    "    > java HelloWorld\n",
    "    Hello World!\n",
    "\n",
    "###C++###\n",
    "\n",
    "file: `hello.cpp`\n",
    "\n",
    "    #include <iostream>\n",
    "    int main() {\n",
    "        std::cout >> \"Hello World!\" << std::endl;\n",
    "    }\n",
    "---\n",
    "    > g++ -o hello hello.cpp\n",
    "    > ./hello\n",
    "    Hello World!\n",
    "\n",
    "###Fortran###\n",
    "\n",
    "file: `hello.f`\n",
    "\n",
    "        PROGRAM HELLO\n",
    "        WRITE (*,100)\n",
    "        STOP\n",
    "    100 FORMAT (' Hello World! ' /)\n",
    "        END\n",
    "---\n",
    "    > g77 -o hello hello.f\n",
    "    > ./hello\n",
    "    Hello World!"
   ]
  },
  {
   "cell_type": "markdown",
   "metadata": {
    "slideshow": {
     "slide_type": "slide"
    }
   },
   "source": [
    "### Indentation Matters!"
   ]
  },
  {
   "cell_type": "code",
   "execution_count": 88,
   "metadata": {
    "collapsed": false
   },
   "outputs": [
    {
     "ename": "IndentationError",
     "evalue": "unexpected indent (<ipython-input-88-8a99417aa870>, line 2)",
     "output_type": "error",
     "traceback": [
      "\u001b[0;36m  File \u001b[0;32m\"<ipython-input-88-8a99417aa870>\"\u001b[0;36m, line \u001b[0;32m2\u001b[0m\n\u001b[0;31m    print(\"B\")\u001b[0m\n\u001b[0m    ^\u001b[0m\n\u001b[0;31mIndentationError\u001b[0m\u001b[0;31m:\u001b[0m unexpected indent\n"
     ]
    }
   ],
   "source": [
    "print(2 + 3)\n",
    "print(\"B\")"
   ]
  },
  {
   "cell_type": "code",
   "execution_count": 89,
   "metadata": {
    "collapsed": false
   },
   "outputs": [
    {
     "name": "stdout",
     "output_type": "stream",
     "text": [
      "That's right!\n"
     ]
    }
   ],
   "source": [
    "if True == True:\n",
    "    print(\"That's right!\")"
   ]
  },
  {
   "cell_type": "markdown",
   "metadata": {},
   "source": [
    "* Bullet\n",
    "\n",
    "\n",
    "1. Numbered\n",
    "\n",
    "## Heading 2##"
   ]
  },
  {
   "cell_type": "markdown",
   "metadata": {},
   "source": [
    "##Types and Operations##\n",
    "\n",
    "###We'll talk about a few types:###\n",
    "* `int`: integer\n",
    "* `float`: floating point (decimal)\n",
    "* `long`: long integer\n",
    "* `complex`: complex number (decimal, not integer)\n",
    "\n",
    "###We'll also introduce the basic arithmetic operations:###\n",
    "* `+`: addition\n",
    "* `-`: subtraction\n",
    "* `/`: division\n",
    "* `*`: multiplication\n",
    "* `%`: modulus (remainder)\n",
    "* `**`: exponentiation"
   ]
  },
  {
   "cell_type": "code",
   "execution_count": 91,
   "metadata": {
    "collapsed": false
   },
   "outputs": [
    {
     "data": {
      "text/plain": [
       "17"
      ]
     },
     "execution_count": 91,
     "metadata": {},
     "output_type": "execute_result"
    }
   ],
   "source": [
    "2 + 5 * 3"
   ]
  },
  {
   "cell_type": "code",
   "execution_count": 94,
   "metadata": {
    "collapsed": false
   },
   "outputs": [],
   "source": [
    "from __future__ import division"
   ]
  },
  {
   "cell_type": "code",
   "execution_count": 95,
   "metadata": {
    "collapsed": false
   },
   "outputs": [
    {
     "data": {
      "text/plain": [
       "2.5"
      ]
     },
     "execution_count": 95,
     "metadata": {},
     "output_type": "execute_result"
    }
   ],
   "source": [
    "5 / 2"
   ]
  },
  {
   "cell_type": "code",
   "execution_count": 96,
   "metadata": {
    "collapsed": false
   },
   "outputs": [
    {
     "data": {
      "text/plain": [
       "2"
      ]
     },
     "execution_count": 96,
     "metadata": {},
     "output_type": "execute_result"
    }
   ],
   "source": [
    "5 // 2"
   ]
  },
  {
   "cell_type": "markdown",
   "metadata": {},
   "source": [
    "####Caution: Floating point numbers####\n",
    "\n",
    "Floats are limited by their 16-bit representation (same as in other languages). Precision issues can lead to seemingly strange results."
   ]
  },
  {
   "cell_type": "code",
   "execution_count": 14,
   "metadata": {
    "collapsed": false
   },
   "outputs": [
    {
     "name": "stdout",
     "output_type": "stream",
     "text": [
      "0.30000000000000004441\n",
      "0.29999999999999998890\n"
     ]
    }
   ],
   "source": [
    "# this is a string formatting command (we'll cover this later)\n",
    "# it says to print 20 places after the decimal\n",
    "print(\"{0:.20f}\".format(0.1 + 0.2))\n",
    "print(\"{0:.20f}\".format(0.3))"
   ]
  },
  {
   "cell_type": "markdown",
   "metadata": {},
   "source": [
    "##Assigning variables##"
   ]
  },
  {
   "cell_type": "markdown",
   "metadata": {
    "slideshow": {
     "slide_type": "fragment"
    }
   },
   "source": [
    "Integer operations result in integers in Python 2.x, but floats in Python 3.x."
   ]
  },
  {
   "cell_type": "code",
   "execution_count": 99,
   "metadata": {
    "collapsed": true
   },
   "outputs": [],
   "source": [
    "pi = 3.14"
   ]
  },
  {
   "cell_type": "code",
   "execution_count": 100,
   "metadata": {
    "collapsed": false
   },
   "outputs": [
    {
     "data": {
      "text/plain": [
       "10.14"
      ]
     },
     "execution_count": 100,
     "metadata": {},
     "output_type": "execute_result"
    }
   ],
   "source": [
    "pi + 7"
   ]
  },
  {
   "cell_type": "code",
   "execution_count": 101,
   "metadata": {
    "collapsed": true
   },
   "outputs": [],
   "source": [
    "name = \"Bernease\""
   ]
  },
  {
   "cell_type": "code",
   "execution_count": 103,
   "metadata": {
    "collapsed": false
   },
   "outputs": [
    {
     "name": "stdout",
     "output_type": "stream",
     "text": [
      "Susan\n"
     ]
    }
   ],
   "source": [
    "name = \"Susan\"\n",
    "print(name)"
   ]
  },
  {
   "cell_type": "markdown",
   "metadata": {
    "slideshow": {
     "slide_type": "fragment"
    }
   },
   "source": [
    "Each operator has an operate-and-assign version"
   ]
  },
  {
   "cell_type": "code",
   "execution_count": 105,
   "metadata": {
    "collapsed": true
   },
   "outputs": [],
   "source": [
    "x = 5"
   ]
  },
  {
   "cell_type": "code",
   "execution_count": 107,
   "metadata": {
    "collapsed": false
   },
   "outputs": [
    {
     "name": "stdout",
     "output_type": "stream",
     "text": [
      "19\n"
     ]
    }
   ],
   "source": [
    "x = x + 7\n",
    "print(x)"
   ]
  },
  {
   "cell_type": "code",
   "execution_count": 109,
   "metadata": {
    "collapsed": false
   },
   "outputs": [
    {
     "name": "stdout",
     "output_type": "stream",
     "text": [
      "29\n"
     ]
    }
   ],
   "source": [
    "x += 5\n",
    "print(x)"
   ]
  },
  {
   "cell_type": "markdown",
   "metadata": {},
   "source": [
    "##Comparison Operators##\n",
    "\n",
    "* `==`, `!=`: equal, not equal\n",
    "* `<`, `<=`: less than, less than or equal\n",
    "* `>`, `>=`: greater than, greater than or equal"
   ]
  },
  {
   "cell_type": "code",
   "execution_count": 110,
   "metadata": {
    "collapsed": false
   },
   "outputs": [
    {
     "data": {
      "text/plain": [
       "False"
      ]
     },
     "execution_count": 110,
     "metadata": {},
     "output_type": "execute_result"
    }
   ],
   "source": [
    "4 == 5"
   ]
  },
  {
   "cell_type": "code",
   "execution_count": 111,
   "metadata": {
    "collapsed": false
   },
   "outputs": [
    {
     "data": {
      "text/plain": [
       "True"
      ]
     },
     "execution_count": 111,
     "metadata": {},
     "output_type": "execute_result"
    }
   ],
   "source": [
    "7 < 19"
   ]
  },
  {
   "cell_type": "markdown",
   "metadata": {
    "slideshow": {
     "slide_type": "slide"
    }
   },
   "source": [
    "## Boolean variables and logical operations\n",
    "\n",
    "Python has two built-in boolean values, ``True`` and ``False`` which we've seen above.\n",
    "\n",
    "There are also built-in logical operations to test these\n",
    "\n",
    "- ``A or B`` : ``True`` if either ``A`` or ``B`` or both are ``True``\n",
    "- ``A and B`` : ``True`` only if both ``A`` and ``B`` are ``True``\n",
    "- ``not A``: ``True`` only if ``A`` is ``False``"
   ]
  },
  {
   "cell_type": "code",
   "execution_count": 113,
   "metadata": {
    "collapsed": false
   },
   "outputs": [
    {
     "data": {
      "text/plain": [
       "False"
      ]
     },
     "execution_count": 113,
     "metadata": {},
     "output_type": "execute_result"
    }
   ],
   "source": [
    "1 >= 0 and 4 == 5"
   ]
  },
  {
   "cell_type": "code",
   "execution_count": 114,
   "metadata": {
    "collapsed": false
   },
   "outputs": [
    {
     "data": {
      "text/plain": [
       "True"
      ]
     },
     "execution_count": 114,
     "metadata": {},
     "output_type": "execute_result"
    }
   ],
   "source": [
    "not 7 == 8"
   ]
  },
  {
   "cell_type": "markdown",
   "metadata": {
    "slideshow": {
     "slide_type": "slide"
    }
   },
   "source": [
    "### Built-in types can be coerced to booleans."
   ]
  },
  {
   "cell_type": "markdown",
   "metadata": {
    "slideshow": {
     "slide_type": "fragment"
    }
   },
   "source": [
    "zero is evaluated to ``False``, every other number to ``True``"
   ]
  },
  {
   "cell_type": "code",
   "execution_count": 15,
   "metadata": {
    "collapsed": false,
    "slideshow": {
     "slide_type": "fragment"
    }
   },
   "outputs": [
    {
     "name": "stdout",
     "output_type": "stream",
     "text": [
      "None\n"
     ]
    }
   ],
   "source": [
    "print(None)  # None is a special object"
   ]
  },
  {
   "cell_type": "code",
   "execution_count": 16,
   "metadata": {
    "collapsed": false,
    "slideshow": {
     "slide_type": "fragment"
    }
   },
   "outputs": [
    {
     "name": "stdout",
     "output_type": "stream",
     "text": [
      "False\n",
      "False\n",
      "True\n",
      "False\n"
     ]
    }
   ],
   "source": [
    "print(None == True)\n",
    "print(None == False)\n",
    "print(None == None)\n",
    "print(bool(None))"
   ]
  },
  {
   "cell_type": "markdown",
   "metadata": {
    "slideshow": {
     "slide_type": "slide"
    }
   },
   "source": [
    "### Special comparators: ``is`` and ``is not``"
   ]
  },
  {
   "cell_type": "code",
   "execution_count": 115,
   "metadata": {
    "collapsed": false,
    "slideshow": {
     "slide_type": "fragment"
    }
   },
   "outputs": [
    {
     "data": {
      "text/plain": [
       "True"
      ]
     },
     "execution_count": 115,
     "metadata": {},
     "output_type": "execute_result"
    }
   ],
   "source": [
    "x = 1\n",
    "y = 1\n",
    "x is y"
   ]
  },
  {
   "cell_type": "code",
   "execution_count": null,
   "metadata": {
    "collapsed": true
   },
   "outputs": [],
   "source": []
  },
  {
   "cell_type": "code",
   "execution_count": 18,
   "metadata": {
    "collapsed": false,
    "slideshow": {
     "slide_type": "fragment"
    }
   },
   "outputs": [
    {
     "name": "stdout",
     "output_type": "stream",
     "text": [
      "False\n"
     ]
    }
   ],
   "source": [
    "x = 1111\n",
    "y = 1111\n",
    "print(x is y)"
   ]
  },
  {
   "cell_type": "code",
   "execution_count": 117,
   "metadata": {
    "collapsed": false
   },
   "outputs": [
    {
     "data": {
      "text/plain": [
       "True"
      ]
     },
     "execution_count": 117,
     "metadata": {},
     "output_type": "execute_result"
    }
   ],
   "source": [
    "x == y"
   ]
  },
  {
   "cell_type": "markdown",
   "metadata": {
    "slideshow": {
     "slide_type": "fragment"
    }
   },
   "source": [
    "Takeaway: \"``is``\" and \"``is not``\" refer to the *memory* being used by the object.\n",
    "If ``x`` and ``y`` point to the same location in memory, then ``x is y`` will be True.\n",
    "\n",
    "Probably their most common use is in comparisons to ``None``.  All variables equal to ``None``\n",
    "are guaranteed to point to the same memory location (i.e. it acts as a Singleton)."
   ]
  },
  {
   "cell_type": "code",
   "execution_count": 19,
   "metadata": {
    "collapsed": false,
    "slideshow": {
     "slide_type": "fragment"
    }
   },
   "outputs": [
    {
     "name": "stdout",
     "output_type": "stream",
     "text": [
      "True\n"
     ]
    }
   ],
   "source": [
    "x = None\n",
    "print(x is None)"
   ]
  },
  {
   "cell_type": "markdown",
   "metadata": {
    "slideshow": {
     "slide_type": "fragment"
    }
   },
   "source": [
    "You don't need to fully understand this, but just be aware that the ``is`` and ``is not`` operators should generally not be used unless you do!"
   ]
  },
  {
   "cell_type": "markdown",
   "metadata": {},
   "source": [
    "##Five Minute Break##"
   ]
  },
  {
   "cell_type": "code",
   "execution_count": 20,
   "metadata": {
    "collapsed": false
   },
   "outputs": [
    {
     "data": {
      "text/html": [
       "\n",
       "        <iframe\n",
       "            width=\"400\"\n",
       "            height=\"300\"\n",
       "            src=\"https://www.youtube.com/embed/LY6h3pkdsro\"\n",
       "            frameborder=\"0\"\n",
       "            allowfullscreen\n",
       "        ></iframe>\n",
       "        "
      ],
      "text/plain": [
       "<IPython.lib.display.YouTubeVideo at 0x1047a5790>"
      ]
     },
     "execution_count": 20,
     "metadata": {},
     "output_type": "execute_result"
    }
   ],
   "source": [
    "from IPython.display import YouTubeVideo\n",
    "YouTubeVideo(\"LY6h3pkdsro\")"
   ]
  },
  {
   "cell_type": "markdown",
   "metadata": {
    "slideshow": {
     "slide_type": "slide"
    }
   },
   "source": [
    "## More on Variables & Types"
   ]
  },
  {
   "cell_type": "code",
   "execution_count": 21,
   "metadata": {
    "collapsed": false,
    "slideshow": {
     "slide_type": "fragment"
    }
   },
   "outputs": [
    {
     "name": "stdout",
     "output_type": "stream",
     "text": [
      "<type 'int'>\n"
     ]
    }
   ],
   "source": [
    "print(type(1))"
   ]
  },
  {
   "cell_type": "code",
   "execution_count": 22,
   "metadata": {
    "collapsed": false,
    "slideshow": {
     "slide_type": "fragment"
    }
   },
   "outputs": [
    {
     "name": "stdout",
     "output_type": "stream",
     "text": [
      "<type 'int'>\n"
     ]
    }
   ],
   "source": [
    "x = 2\n",
    "print(type(x))"
   ]
  },
  {
   "cell_type": "code",
   "execution_count": 23,
   "metadata": {
    "collapsed": false,
    "slideshow": {
     "slide_type": "fragment"
    }
   },
   "outputs": [
    {
     "data": {
      "text/plain": [
       "True"
      ]
     },
     "execution_count": 23,
     "metadata": {},
     "output_type": "execute_result"
    }
   ],
   "source": [
    "type(2) == type(1)"
   ]
  },
  {
   "cell_type": "code",
   "execution_count": 24,
   "metadata": {
    "collapsed": false,
    "slideshow": {
     "slide_type": "fragment"
    }
   },
   "outputs": [
    {
     "name": "stdout",
     "output_type": "stream",
     "text": [
      "<type 'bool'>\n"
     ]
    }
   ],
   "source": [
    "print(type(True))"
   ]
  },
  {
   "cell_type": "code",
   "execution_count": 25,
   "metadata": {
    "collapsed": false,
    "slideshow": {
     "slide_type": "fragment"
    }
   },
   "outputs": [
    {
     "name": "stdout",
     "output_type": "stream",
     "text": [
      "<type 'NoneType'>\n"
     ]
    }
   ],
   "source": [
    "print(type(None))"
   ]
  },
  {
   "cell_type": "code",
   "execution_count": 26,
   "metadata": {
    "collapsed": false,
    "slideshow": {
     "slide_type": "fragment"
    }
   },
   "outputs": [
    {
     "name": "stdout",
     "output_type": "stream",
     "text": [
      "<type 'type'>\n"
     ]
    }
   ],
   "source": [
    "print(type(type(1)))"
   ]
  },
  {
   "cell_type": "code",
   "execution_count": 27,
   "metadata": {
    "collapsed": false,
    "slideshow": {
     "slide_type": "fragment"
    }
   },
   "outputs": [
    {
     "name": "stdout",
     "output_type": "stream",
     "text": [
      "<type 'builtin_function_or_method'>\n"
     ]
    }
   ],
   "source": [
    "print(type(pow))"
   ]
  },
  {
   "cell_type": "markdown",
   "metadata": {
    "slideshow": {
     "slide_type": "fragment"
    }
   },
   "source": [
    "we can test whether something is a certain type with `isinstance()`"
   ]
  },
  {
   "cell_type": "code",
   "execution_count": 28,
   "metadata": {
    "collapsed": false,
    "slideshow": {
     "slide_type": "fragment"
    }
   },
   "outputs": [
    {
     "name": "stdout",
     "output_type": "stream",
     "text": [
      "True\n",
      "True\n",
      "False\n"
     ]
    }
   ],
   "source": [
    "print(isinstance(1, int))\n",
    "print(isinstance(\"spam\", str))\n",
    "print(isinstance(1.212, int))"
   ]
  },
  {
   "cell_type": "markdown",
   "metadata": {
    "slideshow": {
     "slide_type": "fragment"
    }
   },
   "source": [
    "builtin-types: `int`, `bool`, `str`, `float`, `complex`, `long`...."
   ]
  },
  {
   "cell_type": "markdown",
   "metadata": {
    "slideshow": {
     "slide_type": "slide"
    }
   },
   "source": [
    "## Strings"
   ]
  },
  {
   "cell_type": "markdown",
   "metadata": {
    "slideshow": {
     "slide_type": "fragment"
    }
   },
   "source": [
    "backslashes (`\\`) start special (escape) characters:\n",
    "\n",
    "     \\n   = newline  (\\r = return)\n",
    "     \\t   = tab\n",
    "     \\a   = bell\n",
    "\n",
    "string literals are defined with double quotes or quotes.\n",
    "the outermost quote type cannot be used inside the string (unless it's escaped with a backslash)"
   ]
  },
  {
   "cell_type": "code",
   "execution_count": 118,
   "metadata": {
    "collapsed": true
   },
   "outputs": [],
   "source": [
    "my_string = \"Words!\""
   ]
  },
  {
   "cell_type": "code",
   "execution_count": 29,
   "metadata": {
    "collapsed": false,
    "slideshow": {
     "slide_type": "fragment"
    }
   },
   "outputs": [],
   "source": [
    "# raw strings (marked with r) don't escape characters"
   ]
  },
  {
   "cell_type": "code",
   "execution_count": 123,
   "metadata": {
    "collapsed": false,
    "slideshow": {
     "slide_type": "fragment"
    }
   },
   "outputs": [
    {
     "name": "stdout",
     "output_type": "stream",
     "text": [
      "We're doing strings. \"Yeah,\" she said.\n"
     ]
    }
   ],
   "source": [
    "# Triple quotes are real useful for multiple line strings\n",
    "some_string = \"\"\"We're doing strings. \"Yeah,\" she said.\"\"\"\n",
    "print(some_string)"
   ]
  },
  {
   "cell_type": "markdown",
   "metadata": {
    "slideshow": {
     "slide_type": "fragment"
    }
   },
   "source": [
    "* prepending `r` makes that string \"raw\"\n",
    "* triple quotes allow you to compose long strings\n",
    "* prepending `u` makes that string \"unicode\"\n",
    "\n",
    "http://docs.python.org/reference/lexical_analysis.html#string-literals"
   ]
  },
  {
   "cell_type": "markdown",
   "metadata": {
    "slideshow": {
     "slide_type": "slide"
    }
   },
   "source": [
    "### Arithmetic with Strings"
   ]
  },
  {
   "cell_type": "markdown",
   "metadata": {
    "slideshow": {
     "slide_type": "slide"
    }
   },
   "source": [
    "* you can concatenate strings with `+` sign\n",
    "* you can do multiple concatenations with the `*` sign\n",
    "* strings can be compared"
   ]
  },
  {
   "cell_type": "code",
   "execution_count": 126,
   "metadata": {
    "collapsed": false
   },
   "outputs": [
    {
     "data": {
      "text/plain": [
       "'StrStrStringStrStrString'"
      ]
     },
     "execution_count": 126,
     "metadata": {},
     "output_type": "execute_result"
    }
   ],
   "source": [
    "(\"Str\"*3 + \"ing\") * 2"
   ]
  },
  {
   "cell_type": "markdown",
   "metadata": {},
   "source": [
    "But you can't add strings and integers:"
   ]
  },
  {
   "cell_type": "code",
   "execution_count": 129,
   "metadata": {
    "collapsed": false
   },
   "outputs": [
    {
     "data": {
      "text/plain": [
       "'5five'"
      ]
     },
     "execution_count": 129,
     "metadata": {},
     "output_type": "execute_result"
    }
   ],
   "source": [
    "str(5) + \"five\""
   ]
  },
  {
   "cell_type": "code",
   "execution_count": 130,
   "metadata": {
    "collapsed": false
   },
   "outputs": [
    {
     "data": {
      "text/plain": [
       "5"
      ]
     },
     "execution_count": 130,
     "metadata": {},
     "output_type": "execute_result"
    }
   ],
   "source": [
    "int(\"5\")"
   ]
  },
  {
   "cell_type": "markdown",
   "metadata": {
    "slideshow": {
     "slide_type": "fragment"
    }
   },
   "source": [
    "you must concatenate only strings, coercing (\"casting\") \n",
    "other variable types to `str`"
   ]
  },
  {
   "cell_type": "markdown",
   "metadata": {
    "slideshow": {
     "slide_type": "slide"
    }
   },
   "source": [
    "### Getting input from the user"
   ]
  },
  {
   "cell_type": "code",
   "execution_count": 31,
   "metadata": {
    "collapsed": false,
    "slideshow": {
     "slide_type": "fragment"
    }
   },
   "outputs": [],
   "source": [
    "# Note that raw_input does not work in IPython notebook version < 1.0\n",
    "# You can always do this from a file or from the command line, though"
   ]
  },
  {
   "cell_type": "markdown",
   "metadata": {
    "slideshow": {
     "slide_type": "fragment"
    }
   },
   "source": [
    "(Note that in Python 2.x you should use ``raw_input`` rather than ``input``\n",
    "\n",
    "Remember that the input comes as a string:"
   ]
  },
  {
   "cell_type": "markdown",
   "metadata": {
    "slideshow": {
     "slide_type": "slide"
    }
   },
   "source": [
    "### Strings as arrays"
   ]
  },
  {
   "cell_type": "markdown",
   "metadata": {
    "slideshow": {
     "slide_type": "fragment"
    }
   },
   "source": [
    "We can think of strings as arrays\n",
    "(although, unlike in C you never really need to deal with directly addressing character locations in memory)"
   ]
  },
  {
   "cell_type": "code",
   "execution_count": 32,
   "metadata": {
    "collapsed": false,
    "slideshow": {
     "slide_type": "fragment"
    }
   },
   "outputs": [
    {
     "data": {
      "text/plain": [
       "4"
      ]
     },
     "execution_count": 32,
     "metadata": {},
     "output_type": "execute_result"
    }
   ],
   "source": [
    "s = 'spam'\n",
    "len(s)"
   ]
  },
  {
   "cell_type": "markdown",
   "metadata": {
    "slideshow": {
     "slide_type": "slide"
    }
   },
   "source": [
    "### Indexing in Python is zero-based\n",
    "\n",
    "<img width=600 src=\"https://raw.githubusercontent.com/jakevdp/2014_fall_ASTR599/master/notebooks/images/spam.png\">"
   ]
  },
  {
   "cell_type": "code",
   "execution_count": 132,
   "metadata": {
    "collapsed": false,
    "slideshow": {
     "slide_type": "fragment"
    }
   },
   "outputs": [
    {
     "name": "stdout",
     "output_type": "stream",
     "text": [
      "s\n",
      "m\n"
     ]
    }
   ],
   "source": [
    "# First element\n",
    "s = \"spam\"\n",
    "print(s[0])\n",
    "\n",
    "# Last element\n",
    "print(s[-1])"
   ]
  },
  {
   "cell_type": "code",
   "execution_count": 133,
   "metadata": {
    "collapsed": false,
    "slideshow": {
     "slide_type": "fragment"
    }
   },
   "outputs": [
    {
     "data": {
      "text/plain": [
       "'spam'"
      ]
     },
     "execution_count": 133,
     "metadata": {},
     "output_type": "execute_result"
    }
   ],
   "source": [
    "s[0:100]  # if the slice goes past the end, no complaints!"
   ]
  },
  {
   "cell_type": "code",
   "execution_count": 139,
   "metadata": {
    "collapsed": false,
    "slideshow": {
     "slide_type": "fragment"
    }
   },
   "outputs": [
    {
     "name": "stdout",
     "output_type": "stream",
     "text": [
      "pa\n"
     ]
    },
    {
     "data": {
      "text/plain": [
       "4"
      ]
     },
     "execution_count": 139,
     "metadata": {},
     "output_type": "execute_result"
    }
   ],
   "source": [
    "print(s[1:3])\n",
    "\n",
    "# Backwards\n",
    "s[::-1]\n",
    "\n",
    "len(s)"
   ]
  },
  {
   "cell_type": "markdown",
   "metadata": {
    "slideshow": {
     "slide_type": "fragment"
    }
   },
   "source": [
    "* `len()` gives us the length of an array\n",
    "* strings are zero indexed\n",
    "* can also count backwards"
   ]
  },
  {
   "cell_type": "markdown",
   "metadata": {
    "slideshow": {
     "slide_type": "slide"
    }
   },
   "source": [
    "## Flow control: conditionals and loops"
   ]
  },
  {
   "cell_type": "markdown",
   "metadata": {
    "slideshow": {
     "slide_type": "fragment"
    }
   },
   "source": [
    "case statements can be constructed with \n",
    "just a bunch of `if`, `elif`,...`else`"
   ]
  },
  {
   "cell_type": "code",
   "execution_count": 143,
   "metadata": {
    "collapsed": false
   },
   "outputs": [
    {
     "name": "stdout",
     "output_type": "stream",
     "text": [
      "orange\n"
     ]
    }
   ],
   "source": [
    "num = 2\n",
    "\n",
    "if num > 5:\n",
    "    print(\"apple\")\n",
    "else:\n",
    "    print(\"orange\")"
   ]
  },
  {
   "cell_type": "code",
   "execution_count": 148,
   "metadata": {
    "collapsed": false
   },
   "outputs": [
    {
     "name": "stdout",
     "output_type": "stream",
     "text": [
      "something\n"
     ]
    }
   ],
   "source": [
    "string = \"print\"\n",
    "\n",
    "if string == \"print\":\n",
    "    print(\"something\")\n",
    "elif string == \"five\":\n",
    "    print(\"five\")\n",
    "else:\n",
    "    print(\"else\")"
   ]
  },
  {
   "cell_type": "code",
   "execution_count": 149,
   "metadata": {
    "collapsed": false
   },
   "outputs": [
    {
     "data": {
      "text/plain": [
       "2.5"
      ]
     },
     "execution_count": 149,
     "metadata": {},
     "output_type": "execute_result"
    }
   ],
   "source": [
    "5 / 2"
   ]
  },
  {
   "cell_type": "code",
   "execution_count": 151,
   "metadata": {
    "collapsed": false
   },
   "outputs": [
    {
     "data": {
      "text/plain": [
       "0"
      ]
     },
     "execution_count": 151,
     "metadata": {},
     "output_type": "execute_result"
    }
   ],
   "source": [
    "16 % 2"
   ]
  },
  {
   "cell_type": "code",
   "execution_count": 152,
   "metadata": {
    "collapsed": false
   },
   "outputs": [
    {
     "data": {
      "text/plain": [
       "[0, 1, 2, 3, 4]"
      ]
     },
     "execution_count": 152,
     "metadata": {},
     "output_type": "execute_result"
    }
   ],
   "source": [
    "range(5)"
   ]
  },
  {
   "cell_type": "code",
   "execution_count": 153,
   "metadata": {
    "collapsed": false
   },
   "outputs": [
    {
     "data": {
      "text/plain": [
       "[0, 1, 2, 3, 4, 5, 6, 7, 8, 9, 10, 11, 12, 13, 14, 15, 16, 17, 18, 19]"
      ]
     },
     "execution_count": 153,
     "metadata": {},
     "output_type": "execute_result"
    }
   ],
   "source": [
    "range(20)"
   ]
  },
  {
   "cell_type": "code",
   "execution_count": 155,
   "metadata": {
    "collapsed": false
   },
   "outputs": [
    {
     "data": {
      "text/plain": [
       "[5, 6, 7, 8, 9, 10, 11, 12, 13, 14]"
      ]
     },
     "execution_count": 155,
     "metadata": {},
     "output_type": "execute_result"
    }
   ],
   "source": [
    "list(range(5,15))"
   ]
  },
  {
   "cell_type": "code",
   "execution_count": 159,
   "metadata": {
    "collapsed": false
   },
   "outputs": [
    {
     "name": "stdout",
     "output_type": "stream",
     "text": [
      "monkeymonkeymonkey\n",
      "6\n",
      "201\n",
      "[1, 2, 3, 1, 2, 3, 1, 2, 3]\n"
     ]
    }
   ],
   "source": [
    "for x in ['monkey', 2, 67, [1,2,3]]:\n",
    "    print(x*3)"
   ]
  },
  {
   "cell_type": "code",
   "execution_count": 161,
   "metadata": {
    "collapsed": false
   },
   "outputs": [
    {
     "name": "stdout",
     "output_type": "stream",
     "text": [
      "9\n",
      "16\n",
      "25\n",
      "36\n",
      "49\n",
      "64\n",
      "81\n",
      "100\n",
      "121\n",
      "144\n",
      "169\n",
      "196\n"
     ]
    }
   ],
   "source": [
    "for y in range(3,15):\n",
    "    print(y**2)"
   ]
  },
  {
   "cell_type": "markdown",
   "metadata": {
    "slideshow": {
     "slide_type": "fragment"
    }
   },
   "source": [
    "Note: ordering matters. The first block of `True` in an if/elif gets executed then everything else does not."
   ]
  },
  {
   "cell_type": "markdown",
   "metadata": {
    "slideshow": {
     "slide_type": "slide"
    }
   },
   "source": [
    "### Blocks cannot be empty! Use `pass`"
   ]
  },
  {
   "cell_type": "markdown",
   "metadata": {
    "slideshow": {
     "slide_type": "fragment"
    }
   },
   "source": [
    "`pass` is a \"do nothing\"/NOP statement"
   ]
  },
  {
   "cell_type": "markdown",
   "metadata": {
    "slideshow": {
     "slide_type": "slide"
    }
   },
   "source": [
    "## Example: putting it all together"
   ]
  },
  {
   "cell_type": "markdown",
   "metadata": {
    "slideshow": {
     "slide_type": "slide"
    }
   },
   "source": [
    "# Breakout #1: getting your code on\n",
    "\n",
    "Create a program (a .py file) which repeatedly asks the user for a word.\n",
    "The program should append all the words together.  When the user types\n",
    "a \"!\", \"?\", or a \".\", the program should print the resulting sentence and exit.\n",
    "\n",
    "For example, a session might look like this:\n",
    "\n",
    "    [~]$ python breakout01.py\n",
    "    Enter a word (. ! or ? to end): My\n",
    "    Enter a word (. ! or ? to end): name\n",
    "    Enter a word (. ! or ? to end): is\n",
    "    Enter a word (. ! or ? to end): Walter\n",
    "    Enter a word (. ! or ? to end): White\n",
    "    Enter a word (. ! or ? to end): !\n",
    "    \n",
    "    My name is Walter White!"
   ]
  },
  {
   "cell_type": "markdown",
   "metadata": {
    "slideshow": {
     "slide_type": "slide"
    }
   },
   "source": [
    "# Breakout #2: Fizz Buzz (a classic)\n",
    "\n",
    "Write a program that prints the numbers from 1 to 100. But for multiples of three print “Fizz” instead of the number and for the multiples of five print “Buzz”. For numbers which are multiples of both three and five print “FizzBuzz”.\n",
    "\n",
    "If you finish quickly... see how **few** characters you can write this program in (this is known as \"code golf\": going for the fewest key strokes)."
   ]
  },
  {
   "cell_type": "code",
   "execution_count": 171,
   "metadata": {
    "collapsed": false,
    "scrolled": true
   },
   "outputs": [
    {
     "name": "stdout",
     "output_type": "stream",
     "text": [
      "1\n",
      "2\n",
      "3 Fizz\n",
      "4\n",
      "5+Buzz6 Fizz\n",
      "7\n",
      "8\n",
      "9 Fizz\n",
      "10+Buzz11\n",
      "12 Fizz\n",
      "13\n",
      "14\n",
      "15 FizzBuzz\n",
      "16\n",
      "17\n",
      "18 Fizz\n",
      "19\n",
      "20+Buzz21 Fizz\n",
      "22\n",
      "23\n",
      "24 Fizz\n",
      "25+Buzz26\n",
      "27 Fizz\n",
      "28\n",
      "29\n",
      "30 FizzBuzz\n",
      "31\n",
      "32\n",
      "33 Fizz\n",
      "34\n",
      "35+Buzz36 Fizz\n",
      "37\n",
      "38\n",
      "39 Fizz\n",
      "40+Buzz41\n",
      "42 Fizz\n",
      "43\n",
      "44\n",
      "45 FizzBuzz\n",
      "46\n",
      "47\n",
      "48 Fizz\n",
      "49\n",
      "50+Buzz51 Fizz\n",
      "52\n",
      "53\n",
      "54 Fizz\n",
      "55+Buzz56\n",
      "57 Fizz\n",
      "58\n",
      "59\n",
      "60 FizzBuzz\n",
      "61\n",
      "62\n",
      "63 Fizz\n",
      "64\n",
      "65+Buzz66 Fizz\n",
      "67\n",
      "68\n",
      "69 Fizz\n",
      "70+Buzz71\n",
      "72 Fizz\n",
      "73\n",
      "74\n",
      "75 FizzBuzz\n",
      "76\n",
      "77\n",
      "78 Fizz\n",
      "79\n",
      "80+Buzz81 Fizz\n",
      "82\n",
      "83\n",
      "84 Fizz\n",
      "85+Buzz86\n",
      "87 Fizz\n",
      "88\n",
      "89\n",
      "90 FizzBuzz\n",
      "91\n",
      "92\n",
      "93 Fizz\n",
      "94\n",
      "95+Buzz96 Fizz\n",
      "97\n",
      "98\n",
      "99 Fizz\n",
      "100+Buzz"
     ]
    }
   ],
   "source": [
    "from __future__ import print_function\n",
    "\n",
    "for x in range(1,101):\n",
    "    if x % 15 == 0:\n",
    "        print(str(x) + \" \" + \"FizzBuzz\")\n",
    "    elif x % 5 == 0:\n",
    "        print(x, \"Buzz\", sep='+', end='\\n')\n",
    "    elif x % 3 == 0:\n",
    "        print(str(x) + \" Fizz\")\n",
    "    else:\n",
    "        print(x)"
   ]
  },
  {
   "cell_type": "code",
   "execution_count": null,
   "metadata": {
    "collapsed": true
   },
   "outputs": [],
   "source": []
  },
  {
   "cell_type": "markdown",
   "metadata": {
    "slideshow": {
     "slide_type": "slide"
    }
   },
   "source": [
    "Advanced Data Structures\n",
    "========================\n",
    "\n",
    "### There are four types of collections in Python\n",
    "(known as \"Sequence objects\")\n",
    "\n",
    "- ``list`` : a mutable ordered array of data\n",
    "- ``tuple`` : an immutable ordered array of data\n",
    "- ``dict`` : an unordered mapping from keys to values\n",
    "- ``set`` : an unordered collection of unique elements\n",
    "\n",
    "The values in any of these collections can be arbitrary\n",
    "Python objects, and mixing content types is OK.\n",
    "\n",
    "Note that strings are also sequence objects."
   ]
  },
  {
   "cell_type": "markdown",
   "metadata": {
    "slideshow": {
     "slide_type": "slide"
    }
   },
   "source": [
    "## Tuples\n",
    "\n",
    "Tuples are denoted with parentheses"
   ]
  },
  {
   "cell_type": "code",
   "execution_count": 173,
   "metadata": {
    "collapsed": false
   },
   "outputs": [
    {
     "name": "stdout",
     "output_type": "stream",
     "text": [
      "(1, 'f')\n"
     ]
    }
   ],
   "source": [
    "tup = (1, \"f\")\n",
    "print(tup)"
   ]
  },
  {
   "cell_type": "markdown",
   "metadata": {
    "slideshow": {
     "slide_type": "fragment"
    }
   },
   "source": [
    "Can mix types in a tuple"
   ]
  },
  {
   "cell_type": "markdown",
   "metadata": {
    "slideshow": {
     "slide_type": "fragment"
    }
   },
   "source": [
    "Indexing works the same way as for strings:"
   ]
  },
  {
   "cell_type": "code",
   "execution_count": 180,
   "metadata": {
    "collapsed": true
   },
   "outputs": [],
   "source": [
    "my_list = [0,1,2]"
   ]
  },
  {
   "cell_type": "code",
   "execution_count": 181,
   "metadata": {
    "collapsed": false
   },
   "outputs": [
    {
     "name": "stdout",
     "output_type": "stream",
     "text": [
      "[0, 1, 2]\n"
     ]
    }
   ],
   "source": [
    "print(my_list)"
   ]
  },
  {
   "cell_type": "code",
   "execution_count": 182,
   "metadata": {
    "collapsed": true
   },
   "outputs": [],
   "source": [
    "my_list[1] = \"one\""
   ]
  },
  {
   "cell_type": "code",
   "execution_count": 183,
   "metadata": {
    "collapsed": false
   },
   "outputs": [
    {
     "name": "stdout",
     "output_type": "stream",
     "text": [
      "[0, 'one', 2]\n"
     ]
    }
   ],
   "source": [
    "print(my_list)"
   ]
  },
  {
   "cell_type": "code",
   "execution_count": 184,
   "metadata": {
    "collapsed": true
   },
   "outputs": [],
   "source": [
    "my_string = \"spam\""
   ]
  },
  {
   "cell_type": "code",
   "execution_count": 185,
   "metadata": {
    "collapsed": false
   },
   "outputs": [
    {
     "ename": "TypeError",
     "evalue": "'str' object does not support item assignment",
     "output_type": "error",
     "traceback": [
      "\u001b[0;31m---------------------------------------------------------------------------\u001b[0m",
      "\u001b[0;31mTypeError\u001b[0m                                 Traceback (most recent call last)",
      "\u001b[0;32m<ipython-input-185-b03c7eee7db5>\u001b[0m in \u001b[0;36m<module>\u001b[0;34m()\u001b[0m\n\u001b[0;32m----> 1\u001b[0;31m \u001b[0mmy_string\u001b[0m\u001b[0;34m[\u001b[0m\u001b[0;36m1\u001b[0m\u001b[0;34m]\u001b[0m \u001b[0;34m=\u001b[0m \u001b[0;34m\"P\"\u001b[0m\u001b[0;34m\u001b[0m\u001b[0m\n\u001b[0m",
      "\u001b[0;31mTypeError\u001b[0m: 'str' object does not support item assignment"
     ]
    }
   ],
   "source": [
    "my_string[1] = \"P\""
   ]
  },
  {
   "cell_type": "code",
   "execution_count": 186,
   "metadata": {
    "collapsed": true
   },
   "outputs": [],
   "source": [
    "my_string = \"sPam\""
   ]
  },
  {
   "cell_type": "markdown",
   "metadata": {
    "slideshow": {
     "slide_type": "fragment"
    }
   },
   "source": [
    "tuples cannot be modified.\n",
    "but you can create new one with concatenation"
   ]
  },
  {
   "cell_type": "markdown",
   "metadata": {
    "slideshow": {
     "slide_type": "fragment"
    }
   },
   "source": [
    "Tuples are most commonly used in functions which return multiple arguments."
   ]
  },
  {
   "cell_type": "markdown",
   "metadata": {
    "slideshow": {
     "slide_type": "slide"
    }
   },
   "source": [
    "## Lists\n",
    "Lists are denoted with square brackets"
   ]
  },
  {
   "cell_type": "code",
   "execution_count": 187,
   "metadata": {
    "collapsed": true
   },
   "outputs": [],
   "source": [
    "my_list = [7, 3, 4, 6, 7]"
   ]
  },
  {
   "cell_type": "code",
   "execution_count": 188,
   "metadata": {
    "collapsed": false
   },
   "outputs": [
    {
     "name": "stdout",
     "output_type": "stream",
     "text": [
      "[7, 3, 4, 6, 7]\n"
     ]
    }
   ],
   "source": [
    "print(my_list)"
   ]
  },
  {
   "cell_type": "markdown",
   "metadata": {
    "slideshow": {
     "slide_type": "fragment"
    }
   },
   "source": [
    "the main point here: lists are **mutable**"
   ]
  },
  {
   "cell_type": "code",
   "execution_count": 189,
   "metadata": {
    "collapsed": true
   },
   "outputs": [],
   "source": [
    "my_list[3] = 0"
   ]
  },
  {
   "cell_type": "code",
   "execution_count": 190,
   "metadata": {
    "collapsed": false
   },
   "outputs": [
    {
     "data": {
      "text/plain": [
       "[7, 3, 4, 0, 7]"
      ]
     },
     "execution_count": 190,
     "metadata": {},
     "output_type": "execute_result"
    }
   ],
   "source": [
    "my_list"
   ]
  },
  {
   "cell_type": "code",
   "execution_count": 234,
   "metadata": {
    "collapsed": false
   },
   "outputs": [],
   "source": [
    "x = 2\n",
    "y = 3"
   ]
  },
  {
   "cell_type": "code",
   "execution_count": 252,
   "metadata": {
    "collapsed": false
   },
   "outputs": [
    {
     "name": "stdout",
     "output_type": "stream",
     "text": [
      "<type 'int'>\n",
      "<type 'tuple'>\n"
     ]
    },
    {
     "ename": "TypeError",
     "evalue": "'tuple' object does not support item assignment",
     "output_type": "error",
     "traceback": [
      "\u001b[0;31m---------------------------------------------------------------------------\u001b[0m",
      "\u001b[0;31mTypeError\u001b[0m                                 Traceback (most recent call last)",
      "\u001b[0;32m<ipython-input-252-7a12ec54cf8e>\u001b[0m in \u001b[0;36m<module>\u001b[0;34m()\u001b[0m\n\u001b[1;32m      5\u001b[0m \u001b[0;32mprint\u001b[0m\u001b[0;34m(\u001b[0m\u001b[0mtype\u001b[0m\u001b[0;34m(\u001b[0m\u001b[0mvar\u001b[0m\u001b[0;34m)\u001b[0m\u001b[0;34m)\u001b[0m\u001b[0;34m\u001b[0m\u001b[0m\n\u001b[1;32m      6\u001b[0m \u001b[0;34m\u001b[0m\u001b[0m\n\u001b[0;32m----> 7\u001b[0;31m \u001b[0mvar\u001b[0m\u001b[0;34m[\u001b[0m\u001b[0;36m0\u001b[0m\u001b[0;34m]\u001b[0m \u001b[0;34m=\u001b[0m \u001b[0;36m1\u001b[0m\u001b[0;34m\u001b[0m\u001b[0m\n\u001b[0m",
      "\u001b[0;31mTypeError\u001b[0m: 'tuple' object does not support item assignment"
     ]
    }
   ],
   "source": [
    "var = (2,)\n",
    "var\n",
    "\n",
    "print(type((2)))\n",
    "print(type(var))\n",
    "\n",
    "var[0] = 1"
   ]
  },
  {
   "cell_type": "markdown",
   "metadata": {
    "slideshow": {
     "slide_type": "slide"
    }
   },
   "source": [
    "### Lists can be Extended and Appended"
   ]
  },
  {
   "cell_type": "code",
   "execution_count": 192,
   "metadata": {
    "collapsed": false,
    "slideshow": {
     "slide_type": "fragment"
    }
   },
   "outputs": [],
   "source": [
    "v = [1,2,3]\n",
    "v.append(4)\n",
    "v.append([-5])\n",
    "v[-1][0] = -2"
   ]
  },
  {
   "cell_type": "code",
   "execution_count": 193,
   "metadata": {
    "collapsed": false
   },
   "outputs": [
    {
     "name": "stdout",
     "output_type": "stream",
     "text": [
      "[1, 2, 3, 4, [-2]]\n"
     ]
    }
   ],
   "source": [
    "print(v)"
   ]
  },
  {
   "cell_type": "code",
   "execution_count": 195,
   "metadata": {
    "collapsed": false
   },
   "outputs": [],
   "source": [
    "v[4]\n",
    "v.append(-3)\n"
   ]
  },
  {
   "cell_type": "code",
   "execution_count": 197,
   "metadata": {
    "collapsed": false
   },
   "outputs": [],
   "source": [
    "v[4].append(0)"
   ]
  },
  {
   "cell_type": "code",
   "execution_count": 198,
   "metadata": {
    "collapsed": false
   },
   "outputs": [
    {
     "data": {
      "text/plain": [
       "[1, 2, 3, 4, [-2, 0], -3]"
      ]
     },
     "execution_count": 198,
     "metadata": {},
     "output_type": "execute_result"
    }
   ],
   "source": [
    "v"
   ]
  },
  {
   "cell_type": "markdown",
   "metadata": {
    "slideshow": {
     "slide_type": "fragment"
    }
   },
   "source": [
    "Note: lists can be considered objects.  **Objects** are collections of data and associated\n",
    "**methods**.  In the case of a list, ``append`` is a method: it is a function\n",
    "associated with the object."
   ]
  },
  {
   "cell_type": "code",
   "execution_count": 37,
   "metadata": {
    "collapsed": false,
    "slideshow": {
     "slide_type": "fragment"
    }
   },
   "outputs": [
    {
     "data": {
      "text/plain": [
       "[1, 2, 3, 4, 'elderberries', 'eggs']"
      ]
     },
     "execution_count": 37,
     "metadata": {},
     "output_type": "execute_result"
    }
   ],
   "source": [
    "v = v[:4]\n",
    "w = ['elderberries', 'eggs']\n",
    "v + w"
   ]
  },
  {
   "cell_type": "code",
   "execution_count": 38,
   "metadata": {
    "collapsed": false,
    "slideshow": {
     "slide_type": "fragment"
    }
   },
   "outputs": [
    {
     "data": {
      "text/plain": [
       "[1, 2, 3, 4]"
      ]
     },
     "execution_count": 38,
     "metadata": {},
     "output_type": "execute_result"
    }
   ],
   "source": [
    "v"
   ]
  },
  {
   "cell_type": "code",
   "execution_count": 199,
   "metadata": {
    "collapsed": false,
    "slideshow": {
     "slide_type": "fragment"
    }
   },
   "outputs": [
    {
     "data": {
      "text/plain": [
       "[1, 2, 3, 4, [-2, 0], -3]"
      ]
     },
     "execution_count": 199,
     "metadata": {},
     "output_type": "execute_result"
    }
   ],
   "source": [
    "\n",
    "v"
   ]
  },
  {
   "cell_type": "code",
   "execution_count": 202,
   "metadata": {
    "collapsed": false,
    "slideshow": {
     "slide_type": "fragment"
    }
   },
   "outputs": [
    {
     "data": {
      "text/plain": [
       "[-2, 0]"
      ]
     },
     "execution_count": 202,
     "metadata": {},
     "output_type": "execute_result"
    }
   ],
   "source": [
    "v.pop()"
   ]
  },
  {
   "cell_type": "code",
   "execution_count": 203,
   "metadata": {
    "collapsed": false,
    "slideshow": {
     "slide_type": "fragment"
    }
   },
   "outputs": [
    {
     "data": {
      "text/plain": [
       "[1, 2, 3, 4]"
      ]
     },
     "execution_count": 203,
     "metadata": {},
     "output_type": "execute_result"
    }
   ],
   "source": [
    "v"
   ]
  },
  {
   "cell_type": "code",
   "execution_count": 212,
   "metadata": {
    "collapsed": false,
    "slideshow": {
     "slide_type": "fragment"
    }
   },
   "outputs": [],
   "source": [
    "v = [2, 4, 5, 3]\n",
    "popped = v.pop(1)\n",
    "v[0:3] + v.pop(-2) + v[3:"
   ]
  },
  {
   "cell_type": "code",
   "execution_count": 213,
   "metadata": {
    "collapsed": false,
    "slideshow": {
     "slide_type": "fragment"
    }
   },
   "outputs": [
    {
     "data": {
      "text/plain": [
       "[2, 3]"
      ]
     },
     "execution_count": 213,
     "metadata": {},
     "output_type": "execute_result"
    }
   ],
   "source": [
    "v"
   ]
  },
  {
   "cell_type": "markdown",
   "metadata": {
    "slideshow": {
     "slide_type": "slide"
    }
   },
   "source": [
    "#### Useful list methods:\n",
    "\n",
    " * `.append()`: adds a new element\n",
    " * `.extend()`: concatenates a list/element\n",
    " * `.pop()`: remove an element"
   ]
  },
  {
   "cell_type": "markdown",
   "metadata": {
    "slideshow": {
     "slide_type": "slide"
    }
   },
   "source": [
    "### Lists can be searched, sorted, & counted"
   ]
  },
  {
   "cell_type": "code",
   "execution_count": 44,
   "metadata": {
    "collapsed": false,
    "slideshow": {
     "slide_type": "fragment"
    }
   },
   "outputs": [
    {
     "data": {
      "text/plain": [
       "[1, 2, 3, 3, 4]"
      ]
     },
     "execution_count": 44,
     "metadata": {},
     "output_type": "execute_result"
    }
   ],
   "source": [
    "v = [1, 3, 2, 3, 4]\n",
    "v.sort()\n",
    "v"
   ]
  },
  {
   "cell_type": "markdown",
   "metadata": {
    "slideshow": {
     "slide_type": "fragment"
    }
   },
   "source": [
    "`reverse` is a *keyword* of the `.sort()` method"
   ]
  },
  {
   "cell_type": "code",
   "execution_count": 45,
   "metadata": {
    "collapsed": false,
    "slideshow": {
     "slide_type": "fragment"
    }
   },
   "outputs": [
    {
     "data": {
      "text/plain": [
       "[4, 3, 3, 2, 1]"
      ]
     },
     "execution_count": 45,
     "metadata": {},
     "output_type": "execute_result"
    }
   ],
   "source": [
    "v.sort(reverse=True)\n",
    "v"
   ]
  },
  {
   "cell_type": "markdown",
   "metadata": {
    "slideshow": {
     "slide_type": "fragment"
    }
   },
   "source": [
    "`.sort()` changes the the list in place "
   ]
  },
  {
   "cell_type": "code",
   "execution_count": 46,
   "metadata": {
    "collapsed": false,
    "slideshow": {
     "slide_type": "fragment"
    }
   },
   "outputs": [
    {
     "data": {
      "text/plain": [
       "0"
      ]
     },
     "execution_count": 46,
     "metadata": {},
     "output_type": "execute_result"
    }
   ],
   "source": [
    "v.index(4)   ## lookup the index of the entry 4"
   ]
  },
  {
   "cell_type": "code",
   "execution_count": 47,
   "metadata": {
    "collapsed": false,
    "slideshow": {
     "slide_type": "fragment"
    }
   },
   "outputs": [
    {
     "data": {
      "text/plain": [
       "1"
      ]
     },
     "execution_count": 47,
     "metadata": {},
     "output_type": "execute_result"
    }
   ],
   "source": [
    "v.index(3)"
   ]
  },
  {
   "cell_type": "code",
   "execution_count": 48,
   "metadata": {
    "collapsed": false,
    "slideshow": {
     "slide_type": "fragment"
    }
   },
   "outputs": [
    {
     "data": {
      "text/plain": [
       "2"
      ]
     },
     "execution_count": 48,
     "metadata": {},
     "output_type": "execute_result"
    }
   ],
   "source": [
    "v.count(3)"
   ]
  },
  {
   "cell_type": "code",
   "execution_count": 49,
   "metadata": {
    "collapsed": false,
    "slideshow": {
     "slide_type": "fragment"
    }
   },
   "outputs": [
    {
     "data": {
      "text/plain": [
       "[\"it's full of stars\", 4, 3, 3, 2, 1]"
      ]
     },
     "execution_count": 49,
     "metadata": {},
     "output_type": "execute_result"
    }
   ],
   "source": [
    "v.insert(0, \"it's full of stars\")\n",
    "v"
   ]
  },
  {
   "cell_type": "code",
   "execution_count": 50,
   "metadata": {
    "collapsed": false,
    "slideshow": {
     "slide_type": "fragment"
    }
   },
   "outputs": [
    {
     "data": {
      "text/plain": [
       "[\"it's full of stars\", 4, 3, 3, 2]"
      ]
     },
     "execution_count": 50,
     "metadata": {},
     "output_type": "execute_result"
    }
   ],
   "source": [
    "v.remove(1)\n",
    "v"
   ]
  },
  {
   "cell_type": "markdown",
   "metadata": {
    "slideshow": {
     "slide_type": "slide"
    }
   },
   "source": [
    "### Using IPython to learn more\n",
    "\n",
    "IPython is your new best friend: it's tab-completion allows you to\n",
    "explore all methods available to an object.  (This only works in IPython)\n",
    "\n",
    "Type\n",
    "```\n",
    "v.\n",
    "```\n",
    "and then the tab key to see all the available methods:"
   ]
  },
  {
   "cell_type": "code",
   "execution_count": 51,
   "metadata": {
    "collapsed": false,
    "slideshow": {
     "slide_type": "fragment"
    }
   },
   "outputs": [
    {
     "ename": "SyntaxError",
     "evalue": "invalid syntax (<ipython-input-51-fff1a18a644b>, line 1)",
     "output_type": "error",
     "traceback": [
      "\u001b[0;36m  File \u001b[0;32m\"<ipython-input-51-fff1a18a644b>\"\u001b[0;36m, line \u001b[0;32m1\u001b[0m\n\u001b[0;31m    v.\u001b[0m\n\u001b[0m      ^\u001b[0m\n\u001b[0;31mSyntaxError\u001b[0m\u001b[0;31m:\u001b[0m invalid syntax\n"
     ]
    }
   ],
   "source": [
    "v."
   ]
  },
  {
   "cell_type": "markdown",
   "metadata": {
    "slideshow": {
     "slide_type": "fragment"
    }
   },
   "source": [
    "Once you find a method, type (for example)\n",
    "```\n",
    "v.index?\n",
    "```\n",
    "and press shift-enter: you'll see the documentation of the method"
   ]
  },
  {
   "cell_type": "code",
   "execution_count": 52,
   "metadata": {
    "collapsed": false,
    "slideshow": {
     "slide_type": "fragment"
    }
   },
   "outputs": [],
   "source": [
    "v.index?"
   ]
  },
  {
   "cell_type": "markdown",
   "metadata": {
    "slideshow": {
     "slide_type": "fragment"
    }
   },
   "source": [
    "**This is probably the most important thing you'll learn today**"
   ]
  },
  {
   "cell_type": "markdown",
   "metadata": {
    "slideshow": {
     "slide_type": "slide"
    }
   },
   "source": [
    "### Iterating over Lists"
   ]
  },
  {
   "cell_type": "code",
   "execution_count": 53,
   "metadata": {
    "collapsed": false,
    "slideshow": {
     "slide_type": "fragment"
    }
   },
   "outputs": [
    {
     "name": "stdout",
     "output_type": "stream",
     "text": [
      "('cat', 3)\n",
      "('window', 6)\n",
      "('defenestrate', 12)\n"
     ]
    }
   ],
   "source": [
    "a = ['cat', 'window', 'defenestrate']\n",
    "for x in a:\n",
    "    print(x, len(x))"
   ]
  },
  {
   "cell_type": "code",
   "execution_count": 54,
   "metadata": {
    "collapsed": false,
    "slideshow": {
     "slide_type": "fragment"
    }
   },
   "outputs": [
    {
     "name": "stdout",
     "output_type": "stream",
     "text": [
      "(0, 'cat', 3)\n",
      "(1, 'window', 6)\n",
      "(2, 'defenestrate', 12)\n"
     ]
    }
   ],
   "source": [
    "for i,x in enumerate(a):\n",
    "    print(i, x, len(x))"
   ]
  },
  {
   "cell_type": "code",
   "execution_count": 218,
   "metadata": {
    "collapsed": false,
    "slideshow": {
     "slide_type": "fragment"
    }
   },
   "outputs": [
    {
     "name": "stdout",
     "output_type": "stream",
     "text": [
      "0+0 1+1 2+4 3+9 4+16 "
     ]
    }
   ],
   "source": [
    "for x in range(5):\n",
    "    print(x, x**2, sep=\"+\", end=' ')"
   ]
  },
  {
   "cell_type": "code",
   "execution_count": 220,
   "metadata": {
    "collapsed": false
   },
   "outputs": [
    {
     "name": "stdout",
     "output_type": "stream",
     "text": [
      "0+0,1+1,2+4,3+9,4+16,"
     ]
    }
   ],
   "source": [
    "my_list = list(range(5))\n",
    "\n",
    "for x in my_list:\n",
    "    print(x, x**2, sep='+', end=',') # also print x**2, instead of spaces use a '+' in between"
   ]
  },
  {
   "cell_type": "markdown",
   "metadata": {
    "slideshow": {
     "slide_type": "fragment"
    }
   },
   "source": [
    "The syntax for iteration is...  \n",
    "\n",
    "    for variable_name in iterable:\n",
    "       # do something with variable_name"
   ]
  },
  {
   "cell_type": "markdown",
   "metadata": {},
   "source": [
    "### The ``range()`` function"
   ]
  },
  {
   "cell_type": "markdown",
   "metadata": {
    "slideshow": {
     "slide_type": "slide"
    }
   },
   "source": [
    "The `range()` function creates a list of integers\n",
    "\n",
    "(actually an iterator, but think of it as a list)"
   ]
  },
  {
   "cell_type": "code",
   "execution_count": 56,
   "metadata": {
    "collapsed": false,
    "slideshow": {
     "slide_type": "fragment"
    }
   },
   "outputs": [
    {
     "data": {
      "text/plain": [
       "[0, 1, 2, 3]"
      ]
     },
     "execution_count": 56,
     "metadata": {},
     "output_type": "execute_result"
    }
   ],
   "source": [
    "x = range(4)\n",
    "x"
   ]
  },
  {
   "cell_type": "code",
   "execution_count": 57,
   "metadata": {
    "collapsed": false,
    "slideshow": {
     "slide_type": "fragment"
    }
   },
   "outputs": [
    {
     "name": "stdout",
     "output_type": "stream",
     "text": [
      "By adding 0 the total is now 0\n",
      "By adding 1 the total is now 1\n",
      "By adding 2 the total is now 3\n",
      "By adding 3 the total is now 6\n"
     ]
    }
   ],
   "source": [
    "total = 0\n",
    "for val in range(4):\n",
    "    total += val\n",
    "    print(\"By adding \" + str(val) + \\\n",
    "          \" the total is now \" + str(total))"
   ]
  },
  {
   "cell_type": "markdown",
   "metadata": {
    "slideshow": {
     "slide_type": "fragment"
    }
   },
   "source": [
    "\n",
    "`range`([`start`,] `stop`[, `step`])\n",
    "→ list of integers"
   ]
  },
  {
   "cell_type": "code",
   "execution_count": 58,
   "metadata": {
    "collapsed": false,
    "slideshow": {
     "slide_type": "fragment"
    }
   },
   "outputs": [
    {
     "name": "stdout",
     "output_type": "stream",
     "text": [
      "By adding 1 the total is now 1\n",
      "By adding 3 the total is now 4\n",
      "By adding 5 the total is now 9\n",
      "By adding 7 the total is now 16\n",
      "By adding 9 the total is now 25\n"
     ]
    }
   ],
   "source": [
    "total = 0\n",
    "for val in range(1, 10, 2):\n",
    "    total += val\n",
    "    print(\"By adding \" + str(val) + \\\n",
    "          \" the total is now \" + str(total))"
   ]
  },
  {
   "cell_type": "code",
   "execution_count": 222,
   "metadata": {
    "collapsed": true
   },
   "outputs": [],
   "source": [
    "from __future__ import print_function, division"
   ]
  },
  {
   "cell_type": "markdown",
   "metadata": {
    "slideshow": {
     "slide_type": "slide"
    }
   },
   "source": [
    "##Breakout #3: \n",
    "\n",
    "Write a loop over the words in this list and print the words longer than three characters in length:"
   ]
  },
  {
   "cell_type": "code",
   "execution_count": 224,
   "metadata": {
    "collapsed": false,
    "slideshow": {
     "slide_type": "fragment"
    }
   },
   "outputs": [
    {
     "name": "stdout",
     "output_type": "stream",
     "text": [
      "does\n",
      "that\n",
      "star\n",
      "spangled\n",
      "banner\n",
      "wave\n"
     ]
    }
   ],
   "source": [
    "L = [\"Oh\", \"Say\", \"does\", \"that\", \"star\",\n",
    "     \"spangled\", \"banner\", \"yet\", \"wave\"]\n",
    "for word in L:\n",
    "    if len(word) > 3:\n",
    "        print(word)"
   ]
  },
  {
   "cell_type": "code",
   "execution_count": 221,
   "metadata": {
    "collapsed": false
   },
   "outputs": [
    {
     "data": {
      "text/plain": [
       "6"
      ]
     },
     "execution_count": 221,
     "metadata": {},
     "output_type": "execute_result"
    }
   ],
   "source": [
    "len(\"string\")"
   ]
  },
  {
   "cell_type": "markdown",
   "metadata": {
    "slideshow": {
     "slide_type": "slide"
    }
   },
   "source": [
    "## Sets\n",
    "Sets can be thought of as unordered lists of unique items\n",
    "\n",
    "Sets are denoted with a curly braces"
   ]
  },
  {
   "cell_type": "code",
   "execution_count": 225,
   "metadata": {
    "collapsed": false,
    "slideshow": {
     "slide_type": "fragment"
    }
   },
   "outputs": [
    {
     "data": {
      "text/plain": [
       "{1, 2, 3, 'bingo'}"
      ]
     },
     "execution_count": 225,
     "metadata": {},
     "output_type": "execute_result"
    }
   ],
   "source": [
    "{1,2,3,\"bingo\",3}"
   ]
  },
  {
   "cell_type": "code",
   "execution_count": 61,
   "metadata": {
    "collapsed": false,
    "slideshow": {
     "slide_type": "fragment"
    }
   },
   "outputs": [
    {
     "data": {
      "text/plain": [
       "set"
      ]
     },
     "execution_count": 61,
     "metadata": {},
     "output_type": "execute_result"
    }
   ],
   "source": [
    "type({1,2,3,\"bingo\"})"
   ]
  },
  {
   "cell_type": "code",
   "execution_count": 62,
   "metadata": {
    "collapsed": false,
    "slideshow": {
     "slide_type": "fragment"
    }
   },
   "outputs": [
    {
     "data": {
      "text/plain": [
       "dict"
      ]
     },
     "execution_count": 62,
     "metadata": {},
     "output_type": "execute_result"
    }
   ],
   "source": [
    "type({})"
   ]
  },
  {
   "cell_type": "code",
   "execution_count": 63,
   "metadata": {
    "collapsed": false,
    "slideshow": {
     "slide_type": "fragment"
    }
   },
   "outputs": [
    {
     "data": {
      "text/plain": [
       "set"
      ]
     },
     "execution_count": 63,
     "metadata": {},
     "output_type": "execute_result"
    }
   ],
   "source": [
    "type(set())"
   ]
  },
  {
   "cell_type": "code",
   "execution_count": 64,
   "metadata": {
    "collapsed": false,
    "slideshow": {
     "slide_type": "fragment"
    }
   },
   "outputs": [
    {
     "data": {
      "text/plain": [
       "{'I', 'a', 'm', 'p', 's'}"
      ]
     },
     "execution_count": 64,
     "metadata": {},
     "output_type": "execute_result"
    }
   ],
   "source": [
    "set(\"spamIam\")"
   ]
  },
  {
   "cell_type": "markdown",
   "metadata": {
    "slideshow": {
     "slide_type": "fragment"
    }
   },
   "source": [
    "sets have unique elements. They can be\n",
    "compared, differenced, unionized, etc."
   ]
  },
  {
   "cell_type": "code",
   "execution_count": 65,
   "metadata": {
    "collapsed": false,
    "slideshow": {
     "slide_type": "fragment"
    }
   },
   "outputs": [
    {
     "name": "stdout",
     "output_type": "stream",
     "text": [
      "(set(['p', 's']), set(['a', 'm']))\n"
     ]
    }
   ],
   "source": [
    "a = set(\"sp\")\n",
    "b = set(\"am\")\n",
    "print(a, b)"
   ]
  },
  {
   "cell_type": "code",
   "execution_count": 66,
   "metadata": {
    "collapsed": false,
    "slideshow": {
     "slide_type": "fragment"
    }
   },
   "outputs": [
    {
     "data": {
      "text/plain": [
       "True"
      ]
     },
     "execution_count": 66,
     "metadata": {},
     "output_type": "execute_result"
    }
   ],
   "source": [
    "c = set([\"a\",\"m\"])\n",
    "c == b"
   ]
  },
  {
   "cell_type": "code",
   "execution_count": 67,
   "metadata": {
    "collapsed": false,
    "slideshow": {
     "slide_type": "fragment"
    }
   },
   "outputs": [
    {
     "data": {
      "text/plain": [
       "True"
      ]
     },
     "execution_count": 67,
     "metadata": {},
     "output_type": "execute_result"
    }
   ],
   "source": [
    "\"p\" in a"
   ]
  },
  {
   "cell_type": "code",
   "execution_count": 68,
   "metadata": {
    "collapsed": false
   },
   "outputs": [
    {
     "data": {
      "text/plain": [
       "{'a', 'm', 'p', 's'}"
      ]
     },
     "execution_count": 68,
     "metadata": {},
     "output_type": "execute_result"
    }
   ],
   "source": [
    "a | b"
   ]
  },
  {
   "cell_type": "markdown",
   "metadata": {
    "slideshow": {
     "slide_type": "slide"
    }
   },
   "source": [
    "## Dictionaries\n",
    "\n",
    "Dictionaries are one-to-one mappings of objects.\n",
    "\n",
    "We'll show four ways to make a Dictionary"
   ]
  },
  {
   "cell_type": "code",
   "execution_count": 69,
   "metadata": {
    "collapsed": false,
    "slideshow": {
     "slide_type": "fragment"
    }
   },
   "outputs": [
    {
     "data": {
      "text/plain": [
       "{'favorite cat': None, 'favorite spam': 'all'}"
      ]
     },
     "execution_count": 69,
     "metadata": {},
     "output_type": "execute_result"
    }
   ],
   "source": [
    "# number 1... curly braces & colons\n",
    "d = {\"favorite cat\": None,\n",
    "     \"favorite spam\": \"all\"}\n",
    "d"
   ]
  },
  {
   "cell_type": "code",
   "execution_count": 232,
   "metadata": {
    "collapsed": false,
    "slideshow": {
     "slide_type": "fragment"
    }
   },
   "outputs": [
    {
     "data": {
      "text/plain": [
       "{'cat': 'dog', 'one': 1, 'two': 2}"
      ]
     },
     "execution_count": 232,
     "metadata": {},
     "output_type": "execute_result"
    }
   ],
   "source": [
    "# number 2\n",
    "d = dict(one = 1, two=2, cat='dog')\n",
    "d"
   ]
  },
  {
   "cell_type": "code",
   "execution_count": 71,
   "metadata": {
    "collapsed": false,
    "slideshow": {
     "slide_type": "fragment"
    }
   },
   "outputs": [
    {
     "data": {
      "text/plain": [
       "{'cat': 'dog', 'one': 1, 'two': 2}"
      ]
     },
     "execution_count": 71,
     "metadata": {},
     "output_type": "execute_result"
    }
   ],
   "source": [
    "# number 3 ... just start filling in items/keys\n",
    "d = {}  # empty dictionary\n",
    "d['cat'] = 'dog'\n",
    "d['one'] = 1\n",
    "d['two'] = 2\n",
    "d"
   ]
  },
  {
   "cell_type": "code",
   "execution_count": 72,
   "metadata": {
    "collapsed": false,
    "slideshow": {
     "slide_type": "fragment"
    }
   },
   "outputs": [
    {
     "data": {
      "text/plain": [
       "{'cat': 'dog', 'one': 1, 'two': 2}"
      ]
     },
     "execution_count": 72,
     "metadata": {},
     "output_type": "execute_result"
    }
   ],
   "source": [
    "# number 4... start with a list of tuples\n",
    "mylist = [(\"cat\",\"dog\"), (\"one\",1), (\"two\",2)]\n",
    "dict(mylist)"
   ]
  },
  {
   "cell_type": "code",
   "execution_count": 73,
   "metadata": {
    "collapsed": false,
    "slideshow": {
     "slide_type": "fragment"
    }
   },
   "outputs": [
    {
     "data": {
      "text/plain": [
       "True"
      ]
     },
     "execution_count": 73,
     "metadata": {},
     "output_type": "execute_result"
    }
   ],
   "source": [
    "dict(mylist) == d"
   ]
  },
  {
   "cell_type": "code",
   "execution_count": 230,
   "metadata": {
    "collapsed": false
   },
   "outputs": [
    {
     "data": {
      "text/plain": [
       "'yellow'"
      ]
     },
     "execution_count": 230,
     "metadata": {},
     "output_type": "execute_result"
    }
   ],
   "source": [
    "favs = {\"pizza\": \"cheese\", \"color\": \"yellow\", \"number\": 6}\n",
    "\n",
    "#my_favs = dict(\"sports team\" = \"Wolverines\", \"flower\" = \"sunflower\")\n",
    "# pizza, color, number, sports team\n",
    "\n",
    "favs[\"color\"]"
   ]
  },
  {
   "cell_type": "markdown",
   "metadata": {
    "slideshow": {
     "slide_type": "slide"
    }
   },
   "source": [
    "#### Dictionaries can be complicated (in a good way) ####\n",
    "Note that there is no guaranteed order in a dictionary!"
   ]
  },
  {
   "cell_type": "code",
   "execution_count": 74,
   "metadata": {
    "collapsed": true,
    "slideshow": {
     "slide_type": "fragment"
    }
   },
   "outputs": [],
   "source": [
    "d = {\"favorite cat\": None, \"favorite spam\": \"all\"}"
   ]
  },
  {
   "cell_type": "code",
   "execution_count": 75,
   "metadata": {
    "collapsed": false,
    "slideshow": {
     "slide_type": "fragment"
    }
   },
   "outputs": [
    {
     "ename": "KeyError",
     "evalue": "0",
     "output_type": "error",
     "traceback": [
      "\u001b[0;31m---------------------------------------------------------------------------\u001b[0m",
      "\u001b[0;31mKeyError\u001b[0m                                  Traceback (most recent call last)",
      "\u001b[0;32m<ipython-input-75-d1fc1eca4ebb>\u001b[0m in \u001b[0;36m<module>\u001b[0;34m()\u001b[0m\n\u001b[0;32m----> 1\u001b[0;31m \u001b[0md\u001b[0m\u001b[0;34m[\u001b[0m\u001b[0;36m0\u001b[0m\u001b[0;34m]\u001b[0m  \u001b[0;31m# this breaks!  Dictionaries have no order\u001b[0m\u001b[0;34m\u001b[0m\u001b[0m\n\u001b[0m",
      "\u001b[0;31mKeyError\u001b[0m: 0"
     ]
    }
   ],
   "source": [
    "d[0]  # this breaks!  Dictionaries have no order"
   ]
  },
  {
   "cell_type": "code",
   "execution_count": 76,
   "metadata": {
    "collapsed": false,
    "slideshow": {
     "slide_type": "fragment"
    }
   },
   "outputs": [
    {
     "data": {
      "text/plain": [
       "'all'"
      ]
     },
     "execution_count": 76,
     "metadata": {},
     "output_type": "execute_result"
    }
   ],
   "source": [
    "d[\"favorite spam\"]"
   ]
  },
  {
   "cell_type": "code",
   "execution_count": 77,
   "metadata": {
    "collapsed": false,
    "slideshow": {
     "slide_type": "fragment"
    }
   },
   "outputs": [
    {
     "data": {
      "text/plain": [
       "{0: 'this is a zero', 'favorite cat': None, 'favorite spam': 'all'}"
      ]
     },
     "execution_count": 77,
     "metadata": {},
     "output_type": "execute_result"
    }
   ],
   "source": [
    "d[0] = \"this is a zero\"\n",
    "d"
   ]
  },
  {
   "cell_type": "markdown",
   "metadata": {
    "slideshow": {
     "slide_type": "fragment"
    }
   },
   "source": [
    "Dictionaries can contain dictionaries!"
   ]
  },
  {
   "cell_type": "code",
   "execution_count": 78,
   "metadata": {
    "collapsed": false,
    "slideshow": {
     "slide_type": "fragment"
    }
   },
   "outputs": [
    {
     "data": {
      "text/plain": [
       "'all'"
      ]
     },
     "execution_count": 78,
     "metadata": {},
     "output_type": "execute_result"
    }
   ],
   "source": [
    "d = {'favorites': {'cat': None, 'spam': 'all'},\\\n",
    "     'least favorite': {'cat': 'all', 'spam': None}}\n",
    "d['least favorite']['cat']"
   ]
  },
  {
   "cell_type": "markdown",
   "metadata": {
    "slideshow": {
     "slide_type": "fragment"
    }
   },
   "source": [
    "remember: the backslash ('\\') allows you to across break lines. Not technically needed when defining a dictionary or list"
   ]
  },
  {
   "cell_type": "markdown",
   "metadata": {
    "slideshow": {
     "slide_type": "slide"
    }
   },
   "source": [
    "### Dictionaries are used everywhere within Python..."
   ]
  },
  {
   "cell_type": "code",
   "execution_count": 79,
   "metadata": {
    "collapsed": false,
    "slideshow": {
     "slide_type": "fragment"
    }
   },
   "outputs": [
    {
     "data": {
      "text/plain": [
       "['__',\n",
       " '_i77',\n",
       " '_i59',\n",
       " '_i58',\n",
       " '_13',\n",
       " '_i56',\n",
       " '_i55',\n",
       " '_50',\n",
       " '_i53',\n",
       " '_i52',\n",
       " '__builtin__',\n",
       " '_i50',\n",
       " '_56',\n",
       " '_i78',\n",
       " 'total',\n",
       " '_i63',\n",
       " 'quit',\n",
       " '_72',\n",
       " '_69',\n",
       " 'val',\n",
       " '_63',\n",
       " 'YouTubeVideo',\n",
       " '_i79',\n",
       " '_62',\n",
       " '_i57',\n",
       " '_60',\n",
       " '_61',\n",
       " '_66',\n",
       " '_67',\n",
       " '_i',\n",
       " '_68',\n",
       " '_38',\n",
       " '_i60',\n",
       " '__doc__',\n",
       " '_20',\n",
       " '_48',\n",
       " '_49',\n",
       " '_i68',\n",
       " '_i54',\n",
       " '_64',\n",
       " '_40',\n",
       " '_41',\n",
       " '_42',\n",
       " '_43',\n",
       " '_44',\n",
       " '_45',\n",
       " '_46',\n",
       " '_47',\n",
       " '_i74',\n",
       " '_i51',\n",
       " 'mylist',\n",
       " '_i61',\n",
       " '_i70',\n",
       " '_sh',\n",
       " 'b',\n",
       " '_i65',\n",
       " 'd',\n",
       " 'In',\n",
       " '_2',\n",
       " '_23',\n",
       " '_17',\n",
       " '_i12',\n",
       " '_i11',\n",
       " '_i10',\n",
       " '_i17',\n",
       " '_i16',\n",
       " '_i15',\n",
       " 'v',\n",
       " '_i66',\n",
       " 'x',\n",
       " '_i19',\n",
       " '_i18',\n",
       " '_oh',\n",
       " 'Out',\n",
       " '_dh',\n",
       " '_78',\n",
       " '_77',\n",
       " '_76',\n",
       " '_71',\n",
       " '_70',\n",
       " '_73',\n",
       " '_12',\n",
       " '_i73',\n",
       " '_i69',\n",
       " '_i62',\n",
       " '_i67',\n",
       " '_i72',\n",
       " '_iii',\n",
       " 'L',\n",
       " '_i49',\n",
       " '_39',\n",
       " '_i9',\n",
       " '_i8',\n",
       " '_i7',\n",
       " '_i6',\n",
       " '_i5',\n",
       " '_i4',\n",
       " '_i3',\n",
       " '_i2',\n",
       " '_i1',\n",
       " '__package__',\n",
       " '_i44',\n",
       " 'exit',\n",
       " 'get_ipython',\n",
       " '_i28',\n",
       " '_i29',\n",
       " '_i26',\n",
       " '_i27',\n",
       " '_i24',\n",
       " '_i25',\n",
       " '_i22',\n",
       " '_i23',\n",
       " '_i20',\n",
       " '_i21',\n",
       " '_i47',\n",
       " '_i48',\n",
       " '_ii',\n",
       " '__builtins__',\n",
       " '_i45',\n",
       " '_i46',\n",
       " '_i14',\n",
       " '_i40',\n",
       " '_i41',\n",
       " '_i42',\n",
       " '_i36',\n",
       " 'y',\n",
       " '_10',\n",
       " '_i64',\n",
       " '_i35',\n",
       " '__name__',\n",
       " '___',\n",
       " '_i43',\n",
       " '_',\n",
       " '_i75',\n",
       " 'a',\n",
       " 'c',\n",
       " '_32',\n",
       " 'i',\n",
       " '_i13',\n",
       " '_i34',\n",
       " '_i39',\n",
       " '_i38',\n",
       " 's',\n",
       " '_i76',\n",
       " '_i71',\n",
       " '_i37',\n",
       " 'w',\n",
       " '_ih',\n",
       " '_i31',\n",
       " '_i30',\n",
       " '_i33',\n",
       " '_i32',\n",
       " '_35',\n",
       " '_34',\n",
       " '_37',\n",
       " '_36']"
      ]
     },
     "execution_count": 79,
     "metadata": {},
     "output_type": "execute_result"
    }
   ],
   "source": [
    "# globals() and locals() store all global and local variables\n",
    "globals().keys()"
   ]
  },
  {
   "cell_type": "markdown",
   "metadata": {
    "slideshow": {
     "slide_type": "slide"
    }
   },
   "source": [
    "## List Comprehensions\n",
    "\n",
    "### A pythonic way of creating lists on-the-fly\n",
    "**Example:** imagine you want a list of all numbers from 0 to 100 which are divisible by 7 **or** 11"
   ]
  },
  {
   "cell_type": "code",
   "execution_count": 80,
   "metadata": {
    "collapsed": false,
    "slideshow": {
     "slide_type": "fragment"
    }
   },
   "outputs": [
    {
     "name": "stdout",
     "output_type": "stream",
     "text": [
      "[0, 7, 11, 14, 21, 22, 28, 33, 35, 42, 44, 49, 55, 56, 63, 66, 70, 77, 84, 88, 91, 98, 99]\n"
     ]
    }
   ],
   "source": [
    "L = []\n",
    "for num in range(100):\n",
    "    if (num % 7 == 0) or (num % 11 == 0):\n",
    "        L.append(num)\n",
    "print(L)"
   ]
  },
  {
   "cell_type": "markdown",
   "metadata": {
    "slideshow": {
     "slide_type": "fragment"
    }
   },
   "source": [
    "We can also do this with a list comprehension:"
   ]
  },
  {
   "cell_type": "code",
   "execution_count": 81,
   "metadata": {
    "collapsed": false,
    "slideshow": {
     "slide_type": "fragment"
    }
   },
   "outputs": [
    {
     "name": "stdout",
     "output_type": "stream",
     "text": [
      "[0, 7, 11, 14, 21, 22, 28, 33, 35, 42, 44, 49, 55, 56, 63, 66, 70, 77, 84, 88, 91, 98, 99]\n"
     ]
    }
   ],
   "source": [
    "L = [num for num in range(100)\\\n",
    "     if (num % 7 == 0) or (num % 11 == 0)]\n",
    "print(L)"
   ]
  },
  {
   "cell_type": "code",
   "execution_count": 82,
   "metadata": {
    "collapsed": false,
    "slideshow": {
     "slide_type": "fragment"
    }
   },
   "outputs": [
    {
     "name": "stdout",
     "output_type": "stream",
     "text": [
      "[0, 14, 22, 28, 42, 44, 56, 66, 70, 84, 88, 98, 110, 112, 126, 132, 140, 154, 168, 176, 182, 196, 198]\n"
     ]
    }
   ],
   "source": [
    "# Can also operate on each element:\n",
    "L = [2 * num for num in range(100)\\\n",
    "     if (num % 7 == 0) or (num % 11 == 0)]\n",
    "print(L)"
   ]
  },
  {
   "cell_type": "markdown",
   "metadata": {
    "slideshow": {
     "slide_type": "slide"
    }
   },
   "source": [
    "# Functions and Modules\n",
    "An important part of coding (in Python and in other modern language) is organizing code in easily re-used chunks.\n",
    "\n",
    "Python can work within both a *procedural* and an *object-oriented* style.\n",
    "\n",
    "- **Procedural** programming is using functions\n",
    "\n",
    "- **Object-oriented** programming is using classes\n",
    "\n",
    "We'll come back to classes later, and look at functions now."
   ]
  },
  {
   "cell_type": "markdown",
   "metadata": {
    "slideshow": {
     "slide_type": "slide"
    }
   },
   "source": [
    "## Functions\n",
    "\n",
    "Function definitions in Python look like this:\n",
    "\n",
    "``` python\n",
    "def function_name(arg1, arg2, ...,\n",
    "                  kw1=val1, kw2=val2, ...)\n",
    "```\n",
    "\n",
    "*(Note that line-breaks between the parentheses are ignored)*\n",
    "\n",
    "**argX** are *arguments*, and are required\n",
    "\n",
    "**kwX** are *keyword arguments*, and are optional"
   ]
  },
  {
   "cell_type": "markdown",
   "metadata": {
    "slideshow": {
     "slide_type": "slide"
    }
   },
   "source": [
    "## Functions\n",
    "\n",
    "The function name can be anything, as long as it:\n",
    "\n",
    "- contains only numbers, letters, and underscores\n",
    "- does not start with a number\n",
    "- is not the name of a built-in keyword (like ``print``, or ``for``)\n",
    "\n",
    "All Python functions return a value: if no return is specified, it returns ``None``\n",
    "   "
   ]
  },
  {
   "cell_type": "markdown",
   "metadata": {
    "slideshow": {
     "slide_type": "slide"
    }
   },
   "source": [
    "### Return Values\n",
    "\n",
    "Returned values can be anything, which allows a lot of flexibility:"
   ]
  },
  {
   "cell_type": "code",
   "execution_count": 231,
   "metadata": {
    "collapsed": true
   },
   "outputs": [],
   "source": [
    "def someFunction():\n",
    "    return [['a','b','c'],(2,4,6),\"bear\"]"
   ]
  },
  {
   "cell_type": "markdown",
   "metadata": {
    "slideshow": {
     "slide_type": "slide"
    }
   },
   "source": [
    "### Keyword Arguments\n",
    "\n",
    "Keyword arguments can be a very handy way to grow new functionality without breaking old code."
   ]
  },
  {
   "cell_type": "code",
   "execution_count": null,
   "metadata": {
    "collapsed": true
   },
   "outputs": [],
   "source": []
  },
  {
   "cell_type": "markdown",
   "metadata": {
    "slideshow": {
     "slide_type": "slide"
    }
   },
   "source": [
    "### Potential Gotcha: Simple vs Compound types\n",
    "\n",
    "<font color=\"red\">Warning: Simple and Compound types are treated differently!</font>"
   ]
  },
  {
   "cell_type": "markdown",
   "metadata": {
    "slideshow": {
     "slide_type": "fragment"
    }
   },
   "source": [
    "Simple types (int, long, float, complex, string) are passed **by value.**\n",
    "\n",
    "Compound types (list, dict, set, tuple, user-defined objects) are passed **by reference.**\n",
    "\n",
    "Question to think about: why would this be?"
   ]
  }
 ],
 "metadata": {
  "kernelspec": {
   "display_name": "Python 2",
   "language": "python",
   "name": "python2"
  },
  "language_info": {
   "codemirror_mode": {
    "name": "ipython",
    "version": 2
   },
   "file_extension": ".py",
   "mimetype": "text/x-python",
   "name": "python",
   "nbconvert_exporter": "python",
   "pygments_lexer": "ipython2",
   "version": "2.7.10"
  }
 },
 "nbformat": 4,
 "nbformat_minor": 0
}
